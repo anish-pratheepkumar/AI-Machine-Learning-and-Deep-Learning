{
 "cells": [
  {
   "cell_type": "code",
   "execution_count": 3,
   "metadata": {},
   "outputs": [
    {
     "name": "stdout",
     "output_type": "stream",
     "text": [
      "Train on 7982 samples, validate on 1000 samples\n",
      "Epoch 1/20\n",
      "7982/7982 [==============================] - 1s 143us/step - loss: 2.7226 - accuracy: 0.5362 - val_loss: 1.8211 - val_accuracy: 0.6360\n",
      "Epoch 2/20\n",
      "7982/7982 [==============================] - 1s 114us/step - loss: 1.4616 - accuracy: 0.7001 - val_loss: 1.3601 - val_accuracy: 0.7040\n",
      "Epoch 3/20\n",
      "7982/7982 [==============================] - 1s 115us/step - loss: 1.0794 - accuracy: 0.7653 - val_loss: 1.1726 - val_accuracy: 0.7520\n",
      "Epoch 4/20\n",
      "7982/7982 [==============================] - 1s 140us/step - loss: 0.8490 - accuracy: 0.8224 - val_loss: 1.0494 - val_accuracy: 0.7790\n",
      "Epoch 5/20\n",
      "7982/7982 [==============================] - 1s 114us/step - loss: 0.6758 - accuracy: 0.8623 - val_loss: 0.9739 - val_accuracy: 0.8020\n",
      "Epoch 6/20\n",
      "7982/7982 [==============================] - 1s 172us/step - loss: 0.5424 - accuracy: 0.8905 - val_loss: 0.9382 - val_accuracy: 0.8060\n",
      "Epoch 7/20\n",
      "7982/7982 [==============================] - 1s 158us/step - loss: 0.4343 - accuracy: 0.9110 - val_loss: 0.9237 - val_accuracy: 0.8160\n",
      "Epoch 8/20\n",
      "7982/7982 [==============================] - 1s 152us/step - loss: 0.3534 - accuracy: 0.9275 - val_loss: 0.9381 - val_accuracy: 0.8090\n",
      "Epoch 9/20\n",
      "7982/7982 [==============================] - 1s 115us/step - loss: 0.2937 - accuracy: 0.9387 - val_loss: 0.9438 - val_accuracy: 0.8050\n",
      "Epoch 10/20\n",
      "7982/7982 [==============================] - 1s 132us/step - loss: 0.2462 - accuracy: 0.9444 - val_loss: 0.9488 - val_accuracy: 0.8070\n",
      "Epoch 11/20\n",
      "7982/7982 [==============================] - 1s 112us/step - loss: 0.2139 - accuracy: 0.9485 - val_loss: 0.9370 - val_accuracy: 0.8180\n",
      "Epoch 12/20\n",
      "7982/7982 [==============================] - 1s 114us/step - loss: 0.1879 - accuracy: 0.9509 - val_loss: 0.9653 - val_accuracy: 0.8180\n",
      "Epoch 13/20\n",
      "7982/7982 [==============================] - 1s 117us/step - loss: 0.1694 - accuracy: 0.9535 - val_loss: 1.0364 - val_accuracy: 0.7860\n",
      "Epoch 14/20\n",
      "7982/7982 [==============================] - 1s 117us/step - loss: 0.1520 - accuracy: 0.9544 - val_loss: 0.9813 - val_accuracy: 0.8150\n",
      "Epoch 15/20\n",
      "7982/7982 [==============================] - 1s 132us/step - loss: 0.1442 - accuracy: 0.9562 - val_loss: 1.0015 - val_accuracy: 0.8130\n",
      "Epoch 16/20\n",
      "7982/7982 [==============================] - 1s 123us/step - loss: 0.1337 - accuracy: 0.9570 - val_loss: 1.0294 - val_accuracy: 0.8100\n",
      "Epoch 17/20\n",
      "7982/7982 [==============================] - 1s 116us/step - loss: 0.1293 - accuracy: 0.9558 - val_loss: 1.0977 - val_accuracy: 0.7950\n",
      "Epoch 18/20\n",
      "7982/7982 [==============================] - 1s 130us/step - loss: 0.1194 - accuracy: 0.9569 - val_loss: 1.0858 - val_accuracy: 0.8010\n",
      "Epoch 19/20\n",
      "7982/7982 [==============================] - 1s 125us/step - loss: 0.1213 - accuracy: 0.9567 - val_loss: 1.1176 - val_accuracy: 0.7960\n",
      "Epoch 20/20\n",
      "7982/7982 [==============================] - 1s 150us/step - loss: 0.1138 - accuracy: 0.9572 - val_loss: 1.0841 - val_accuracy: 0.8050\n"
     ]
    }
   ],
   "source": [
    "from keras.datasets import reuters\n",
    "\n",
    "#load the train and test datas from reuters with each data/newsline having integer value\n",
    "#not greater than 10000. integers actually represent words in newslines\n",
    "(train_data, train_labels), (test_data, test_labels) = reuters.load_data(num_words=10000)\n",
    "\n",
    "#Encoding the integer sequences present in each newsline of dataset into a binary matrix\n",
    "#we use one-hot encoding method here\n",
    "import numpy as np\n",
    "\n",
    "#defining a function to binarise/vectorise the integer newslines\n",
    "#function takes no of newslines(sequences) and no of element in each review as I/p matrix\n",
    "#which is taken as 10000 number vector by broadcasting(????)\n",
    "def vectorize_sequences(sequences, dimension=10000):\n",
    "    results = np.zeros((len(sequences), dimension)) #creates an all zero matrix of same i/p matrix size\n",
    "    for i, sequence in enumerate(sequences):        #for loop counts by enumerating over each newsline/sequences to check sequence/integer inside it\n",
    "        results[i, sequence] = 1.                   #inside result matrix it sets specific indices corresponding to the integervalue/sequence inside i/sequences to 1\n",
    "    return results                                  #all other indices in result will be zero => a binary matrix\n",
    "\n",
    "x_train = vectorize_sequences(train_data)           #calling fn to binarise the train_data\n",
    "x_test = vectorize_sequences(test_data)             #calling fn to binarise the test_data\n",
    "\n",
    "#similarly following the same logic for one-hot encoding encoding of labels\n",
    "def to_one_hot(labels, dimension=46):\n",
    "    results = np.zeros((len(labels), dimension))\n",
    "    for i, label in enumerate(labels):\n",
    "        results[i, label] = 1.\n",
    "    return results\n",
    "\n",
    "enc_train_labels = to_one_hot(train_labels)\n",
    "enc_test_labels = to_one_hot(test_labels)\n",
    "\n",
    "#building the neural network/ defining the network layers\n",
    "#here we use 3 dense layer 1st 2 with o/p size 64, having relu fn and last dense layer with\n",
    "#o/p size 46, having softmax fn which gives probability dist over 46 o/p classes where each o/P[i] gives a probability \n",
    "#that the sample belongs to class i. i as we knos is 46 classes to which we need to classify\n",
    "from keras import models\n",
    "from keras import layers\n",
    "\n",
    "model = models.Sequential()\n",
    "model.add(layers.Dense(64, activation='relu', input_shape=(10000,))) #i/p shape is 10000 since we created the binary input matrix with each newslinevector(results) having 10000 elements\n",
    "model.add(layers.Dense(64, activation='relu'))\n",
    "model.add(layers.Dense(46, activation='softmax'))\n",
    "\n",
    "#configuring learning process with loss function-rmsprop, optimiser-categorical crossentropy and metrics-accuracy\n",
    "model.compile(optimizer='rmsprop',\n",
    "             loss='categorical_crossentropy',\n",
    "             metrics=['accuracy'])\n",
    "\n",
    "#setting aside validation data set for monitoring the accuracy of the model on data it has never seen before while the training is ongoing\n",
    "x_val = x_train[:1000]                            #takes first 10000 sequences/newslines for validation\n",
    "partial_x_train = x_train[1000:]                  #takes the remaining sequences/newslines for training \n",
    "\n",
    "y_val = enc_train_labels[:1000]                            #takes first 10000 targets for validation\n",
    "partial_y_train = enc_train_labels[1000:]                  #takes the remaining targets for training\n",
    "\n",
    "#network training- iterate on the traning data by calling the fit method of the model\n",
    "#training is done with 20 epochs/iterations over all samples in partial x&y train datas but\n",
    "# in mini-batches of 512 samples ata a time in each epoch. At the same time training is validated by checking\n",
    "#loss and accuracy on 10000 samples set aside as validation data set\n",
    "history = model.fit(partial_x_train,\n",
    "                   partial_y_train,\n",
    "                   epochs=20,\n",
    "                   batch_size=512,\n",
    "                   validation_data=(x_val, y_val))\n"
   ]
  },
  {
   "cell_type": "code",
   "execution_count": 11,
   "metadata": {},
   "outputs": [
    {
     "data": {
      "image/png": "[encoded data removed]",
      "text/plain": [
       "<Figure size 432x288 with 1 Axes>"
      ]
     },
     "metadata": {
      "needs_background": "light"
     },
     "output_type": "display_data"
    }
   ],
   "source": [
    "#Plotting training and validation loss\n",
    "import matplotlib.pyplot as plt\n",
    "\n",
    "loss = history.history['loss']\n",
    "val_loss = history.history['val_loss']\n",
    "\n",
    "epochs = range(1, len(loss)+1)\n",
    "\n",
    "plt.plot(epochs, loss, 'bo', label='Training loss')\n",
    "plt.plot(epochs, val_loss, 'b', label='Validation loss')\n",
    "plt.title('Training and validation loss')\n",
    "plt.xlabel('Epochs')\n",
    "plt.ylabel('Loss')\n",
    "plt.legend()\n",
    "\n",
    "plt.show()"
   ]
  },
  {
   "cell_type": "code",
   "execution_count": 10,
   "metadata": {},
   "outputs": [
    {
     "data": {
      "image/png": "[encoded data removed]",
      "text/plain": [
       "<Figure size 432x288 with 1 Axes>"
      ]
     },
     "metadata": {
      "needs_background": "light"
     },
     "output_type": "display_data"
    }
   ],
   "source": [
    "#plotting training and validation accuracy\n",
    "acc_values = history.history['accuracy']\n",
    "val_acc_values = history.history['val_accuracy']\n",
    "\n",
    "plt.plot(epochs, acc_values, 'bo', label='Training acc')\n",
    "plt.plot(epochs, val_acc_values, 'b', label='Validation acc')\n",
    "plt.title('Training and validation accuracy')\n",
    "plt.xlabel('Epochs')\n",
    "plt.ylabel('Loss')\n",
    "plt.legend()\n",
    "\n",
    "plt.show()"
   ]
  },
  {
   "cell_type": "code",
   "execution_count": 13,
   "metadata": {},
   "outputs": [
    {
     "name": "stdout",
     "output_type": "stream",
     "text": [
      "Train on 7982 samples, validate on 1000 samples\n",
      "Epoch 1/9\n",
      "7982/7982 [==============================] - 1s 131us/step - loss: 2.7332 - accuracy: 0.5437 - val_loss: 1.7985 - val_accuracy: 0.6320\n",
      "Epoch 2/9\n",
      "7982/7982 [==============================] - 1s 172us/step - loss: 1.4560 - accuracy: 0.7061 - val_loss: 1.3063 - val_accuracy: 0.7150\n",
      "Epoch 3/9\n",
      "7982/7982 [==============================] - 1s 175us/step - loss: 1.0709 - accuracy: 0.7707 - val_loss: 1.1340 - val_accuracy: 0.7480\n",
      "Epoch 4/9\n",
      "7982/7982 [==============================] - 1s 117us/step - loss: 0.8468 - accuracy: 0.8198 - val_loss: 1.0257 - val_accuracy: 0.7890\n",
      "Epoch 5/9\n",
      "7982/7982 [==============================] - 1s 136us/step - loss: 0.6749 - accuracy: 0.8619 - val_loss: 0.9782 - val_accuracy: 0.8000\n",
      "Epoch 6/9\n",
      "7982/7982 [==============================] - 1s 174us/step - loss: 0.5432 - accuracy: 0.8881 - val_loss: 0.9383 - val_accuracy: 0.8080\n",
      "Epoch 7/9\n",
      "7982/7982 [==============================] - 1s 120us/step - loss: 0.4424 - accuracy: 0.9085 - val_loss: 0.8976 - val_accuracy: 0.8140\n",
      "Epoch 8/9\n",
      "7982/7982 [==============================] - 1s 119us/step - loss: 0.3548 - accuracy: 0.9281 - val_loss: 0.9195 - val_accuracy: 0.8070\n",
      "Epoch 9/9\n",
      "7982/7982 [==============================] - 1s 138us/step - loss: 0.2969 - accuracy: 0.9366 - val_loss: 0.8957 - val_accuracy: 0.8130\n",
      "2246/2246 [==============================] - 0s 104us/step\n"
     ]
    },
    {
     "data": {
      "text/plain": [
       "[1.0155101597362188, 0.7831701040267944]"
      ]
     },
     "execution_count": 13,
     "metadata": {},
     "output_type": "execute_result"
    }
   ],
   "source": [
    "#observed that the network has been overfitted after 9 epochs\n",
    "#retraining the model with 9 epochs\n",
    "model = models.Sequential()\n",
    "model.add(layers.Dense(64, activation='relu', input_shape=(10000,)))\n",
    "model.add(layers.Dense(64, activation='relu'))\n",
    "model.add(layers.Dense(46, activation='softmax'))\n",
    "\n",
    "model.compile(optimizer='rmsprop',\n",
    "              loss='categorical_crossentropy',\n",
    "              metrics=['accuracy'])\n",
    "\n",
    "model.fit(partial_x_train,\n",
    "          partial_y_train,\n",
    "          epochs=9,\n",
    "          batch_size=512,\n",
    "          validation_data=(x_val, y_val))\n",
    "\n",
    "#evaluating the result with test data\n",
    "results = model.evaluate(x_test, enc_test_labels)\n",
    "results"
   ]
  },
  {
   "cell_type": "code",
   "execution_count": 26,
   "metadata": {
    "scrolled": true
   },
   "outputs": [
    {
     "data": {
      "text/plain": [
       "4"
      ]
     },
     "execution_count": 26,
     "metadata": {},
     "output_type": "execute_result"
    }
   ],
   "source": [
    "#Generating predictions for a new data\n",
    "import numpy as np\n",
    "predictions = model.predict(x_test)\n",
    "np.argmax(predictions[0]) # gives the predicted topic of 1st news line in test data set"
   ]
  },
  {
   "cell_type": "code",
   "execution_count": null,
   "metadata": {},
   "outputs": [],
   "source": []
  },
  {
   "cell_type": "code",
   "execution_count": null,
   "metadata": {},
   "outputs": [],
   "source": []
  }
 ],
 "metadata": {
  "kernelspec": {
   "display_name": "Python 2",
   "language": "python",
   "name": "python2"
  },
  "language_info": {
   "codemirror_mode": {
    "name": "ipython",
    "version": 2
   },
   "file_extension": ".py",
   "mimetype": "text/x-python",
   "name": "python",
   "nbconvert_exporter": "python",
   "pygments_lexer": "ipython2",
   "version": "2.7.16"
  }
 },
 "nbformat": 4,
 "nbformat_minor": 2
}
