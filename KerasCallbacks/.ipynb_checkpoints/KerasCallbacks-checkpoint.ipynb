{
 "cells": [
  {
   "cell_type": "code",
   "execution_count": 3,
   "metadata": {},
   "outputs": [],
   "source": [
    "from keras.datasets import imdb\n",
    "\n",
    "#loading the data\n",
    "(train_data, train_labels), (test_data, test_labels) = imdb.load_data(num_words=10000)\n",
    "\n",
    "#preparing the data\n",
    "#Encoding the integer sequences present in each review of dataset into a binary matrix\n",
    "import numpy as np\n",
    "\n",
    "#defining a function to binarise/vectorise the integer reviews\n",
    "#function takes no of reviews(sequences) and 10000 element in each review as I/p matrix (???)\n",
    "def vectorize_sequences(sequences, dimension=10000):\n",
    "    results = np.zeros((len(sequences), dimension)) #creates an all zero matrix of same i/p matrix size\n",
    "    for i, sequence in enumerate(sequences):        #for loop counts by enumerating over each review/sequences to check sequence/integer inside it\n",
    "        results[i, sequence] = 1.                   #inside result matrix it sets specific indices corresponding to the integer/sequence inside i/sequences to 1\n",
    "    return results                                  #all other indices in result will be zero => a binary matrix\n",
    "\n",
    "x_train = vectorize_sequences(train_data)           #calling fn to binarise the train_data\n",
    "x_test = vectorize_sequences(test_data)             #calling fn to binarise the test_data\n",
    "\n",
    "y_train = np.asarray(train_labels).astype('float32')#vectorising train data/review labels\n",
    "y_test = np.asarray(test_labels).astype('float32')  #vectorising test data/review labels\n",
    "\n",
    "#setting aside validation data set for monitoring the accuracy of the model on data it has never seen before while the training is ongoing\n",
    "x_val = x_train[:10000]                            #takes first 10000 sequences/reviews for validation\n",
    "partial_x_train = x_train[10000:]                  #takes the remaining sequences/revies for training \n",
    "\n",
    "y_val = y_train[:10000]                            #takes first 10000 targets for validation\n",
    "partial_y_train = y_train[10000:]                  #takes the remaining targets for training\n"
   ]
  },
  {
   "cell_type": "code",
   "execution_count": 15,
   "metadata": {},
   "outputs": [
    {
     "name": "stdout",
     "output_type": "stream",
     "text": [
      "Train on 15000 samples, validate on 10000 samples\n",
      "Epoch 1/20\n",
      "15000/15000 [==============================] - 2s 117us/step - loss: 0.5341 - acc: 0.7735 - val_loss: 0.3990 - val_acc: 0.8715\n",
      "Epoch 2/20\n",
      "15000/15000 [==============================] - 1s 92us/step - loss: 0.3182 - acc: 0.9010 - val_loss: 0.3144 - val_acc: 0.8833\n",
      "Epoch 3/20\n",
      "15000/15000 [==============================] - 1s 100us/step - loss: 0.2320 - acc: 0.9244 - val_loss: 0.2800 - val_acc: 0.8937\n",
      "Epoch 4/20\n",
      "15000/15000 [==============================] - 1s 91us/step - loss: 0.1828 - acc: 0.9413 - val_loss: 0.2803 - val_acc: 0.8859\n"
     ]
    }
   ],
   "source": [
    "#building the neural network/ defining the network layers\n",
    "#we use 3 Dense type layer, first 2 with o/p size 16(no of neurons) having relu fn and the last one \n",
    "#with o/p size 1 having sigmoid fn giving a probability info btwn 0 and 1 i.e, -ve and +ve review probability\n",
    "from keras import models\n",
    "from keras import layers\n",
    "\n",
    "model = models.Sequential()\n",
    "model.add(layers.Dense(16, activation='relu', input_shape=(10000,))) #i/p shape is 10000 since we created the binary input with each review vector(results) having 10000 elements\n",
    "model.add(layers.Dense(16, activation='relu'))\n",
    "model.add(layers.Dense(1, activation='sigmoid'))\n",
    "\n",
    "#introducing KerasCallbacks - earlystopping and modelceckpoint\n",
    "import keras\n",
    "\n",
    "callbacks_list = [                                              #describes a list of callbacks \n",
    "    keras.callbacks.EarlyStopping(                              #earlystopping stops   \n",
    "        monitor='val_acc',                                          #when the metric(acc here) being observed\n",
    "        patience=1),                                            #stops improving for more than 2 epochs i.e, 3\n",
    "    keras.callbacks.ModelCheckpoint(                            #saving the model and its weights\n",
    "        filepath='new_model.h5',                                 #in this filepath\n",
    "        monitor='val_loss',                                     #will not update the saved model if the val_loss \n",
    "        save_best_only=True)                                    #is not improving\n",
    "                                        \n",
    "]\n",
    "\n",
    "#configuring learning process with loss function-rmsprop, optimiser-bin crossentropy and metrics-accuracy\n",
    "model.compile(optimizer='rmsprop',\n",
    "             loss='binary_crossentropy',\n",
    "             metrics=['acc'])\n",
    "\n",
    "#network training- iterate on the traning data by calling the fit method of the model\n",
    "#training is done with 20 epochs/iterations over all samples in partial x&y train datas and\n",
    "# in mini-batches of 512 samples at the same time training is validated by checking\n",
    "#loss and accuracy on 10000 samples set aside as validation data set\n",
    "history = model.fit(partial_x_train,\n",
    "                   partial_y_train,\n",
    "                   epochs=20,\n",
    "                   batch_size=512,\n",
    "                   callbacks=callbacks_list, \n",
    "                   validation_data=(x_val, y_val))"
   ]
  },
  {
   "cell_type": "code",
   "execution_count": 13,
   "metadata": {},
   "outputs": [
    {
     "name": "stdout",
     "output_type": "stream",
     "text": [
      "Model: \"sequential_5\"\n",
      "_________________________________________________________________\n",
      "Layer (type)                 Output Shape              Param #   \n",
      "=================================================================\n",
      "dense_13 (Dense)             (None, 16)                160016    \n",
      "_________________________________________________________________\n",
      "dense_14 (Dense)             (None, 16)                272       \n",
      "_________________________________________________________________\n",
      "dense_15 (Dense)             (None, 1)                 17        \n",
      "=================================================================\n",
      "Total params: 160,305\n",
      "Trainable params: 160,305\n",
      "Non-trainable params: 0\n",
      "_________________________________________________________________\n"
     ]
    }
   ],
   "source": [
    "#we asked the model to run 20 epochs but as soon as the val_loss stops improving the training \n",
    "#stopped because of keras callback early stopping\n",
    "#then the model with the best weights are stored in the my_model.h5 file\n",
    "#now loading the saved model and evaluating it to see if it gives good results and its a cross check here to see if the model with best weights are saved\n",
    "\n",
    "from keras.models import load_model\n",
    "\n",
    "saved_model = load_model('new_model.h5')                          #loading the saved model\n",
    "saved_model.summary()\n"
   ]
  },
  {
   "cell_type": "code",
   "execution_count": 14,
   "metadata": {},
   "outputs": [
    {
     "name": "stdout",
     "output_type": "stream",
     "text": [
      "25000/25000 [==============================] - 2s 63us/step\n",
      "test_loss: 0.294358599811 \n",
      " test_acc: 88.1839990616\n"
     ]
    }
   ],
   "source": [
    "test_loss, test_acc = model.evaluate(x_test, y_test)\n",
    "print('test_loss: {} \\n test_acc: {}'.format(test_loss,test_acc*100))"
   ]
  },
  {
   "cell_type": "code",
   "execution_count": null,
   "metadata": {},
   "outputs": [],
   "source": []
  }
 ],
 "metadata": {
  "kernelspec": {
   "display_name": "Python 2",
   "language": "python",
   "name": "python2"
  },
  "language_info": {
   "codemirror_mode": {
    "name": "ipython",
    "version": 2
   },
   "file_extension": ".py",
   "mimetype": "text/x-python",
   "name": "python",
   "nbconvert_exporter": "python",
   "pygments_lexer": "ipython2",
   "version": "2.7.16"
  }
 },
 "nbformat": 4,
 "nbformat_minor": 2
}
