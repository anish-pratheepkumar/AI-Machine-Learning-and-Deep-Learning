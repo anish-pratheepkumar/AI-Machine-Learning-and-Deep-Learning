{
 "cells": [
  {
   "cell_type": "code",
   "execution_count": 1,
   "metadata": {},
   "outputs": [],
   "source": [
    "%load_ext autoreload\n",
    "%autoreload 2\n",
    "\n",
    "from modules import Dropout\n",
    "import torch"
   ]
  },
  {
   "cell_type": "markdown",
   "metadata": {},
   "source": [
    "# Dropout"
   ]
  },
  {
   "cell_type": "markdown",
   "metadata": {},
   "source": [
    "Implement the class ``Dropout`` in ``modules.py`` and test your implementation:"
   ]
  },
  {
   "cell_type": "code",
   "execution_count": 2,
   "metadata": {},
   "outputs": [],
   "source": [
    "b, c = 10, 1000\n",
    "x = torch.ones(b, c, requires_grad=True)\n",
    "dr = Dropout()\n",
    "x_dr = dr(x)\n",
    "res = x_dr.sum()\n",
    "res.backward()\n",
    "assert (res / (b * c)-1).abs() < 1e-1 and \\\n",
    "       (x.grad.mean()-1).abs() < 1e-1 and \\\n",
    "       ((x_dr == 0).double().mean() - 0.1).abs() < 1e-2, \\\n",
    "       \"Training mode incorrect!\"\n",
    "dr.eval()\n",
    "x_dr = dr(x)\n",
    "assert (x_dr - x).abs().sum() == 0, \\\n",
    "       \"Inference mode incorrect!\""
   ]
  },
  {
   "cell_type": "code",
   "execution_count": null,
   "metadata": {},
   "outputs": [],
   "source": []
  }
 ],
 "metadata": {
  "kernelspec": {
   "display_name": "Python 3",
   "language": "python",
   "name": "python3"
  },
  "language_info": {
   "codemirror_mode": {
    "name": "ipython",
    "version": 3
   },
   "file_extension": ".py",
   "mimetype": "text/x-python",
   "name": "python",
   "nbconvert_exporter": "python",
   "pygments_lexer": "ipython3",
   "version": "3.7.5"
  }
 },
 "nbformat": 4,
 "nbformat_minor": 2
}
