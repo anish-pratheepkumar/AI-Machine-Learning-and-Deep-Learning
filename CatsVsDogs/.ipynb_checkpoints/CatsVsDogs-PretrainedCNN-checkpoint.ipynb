{
 "cells": [
  {
   "cell_type": "code",
   "execution_count": 2,
   "metadata": {},
   "outputs": [
    {
     "name": "stdout",
     "output_type": "stream",
     "text": [
      "Found 2000 images belonging to 2 classes.\n",
      "Found 1000 images belonging to 2 classes.\n",
      "Found 1000 images belonging to 2 classes.\n"
     ]
    }
   ],
   "source": [
    "#using a pretrained cnn - VGG16 (trained on imagenet data set of animals) \n",
    "#this is available as an application in keras\n",
    "from keras.applications import VGG16\n",
    "\n",
    "conv_base = VGG16(weights='imagenet',                          #this argument is weight initialisation we can use either the imagenet weights or random initialisation\n",
    "            include_top=False,                                 #False => not to use the dense layers \n",
    "            input_shape=(150, 150, 3))\n",
    "\n",
    "import os\n",
    "import numpy as np\n",
    "from keras.preprocessing.image import ImageDataGenerator\n",
    "\n",
    "#defining direcory location for the image input to the network, no need to use os.mkdir here since directory is already made before\n",
    "base_dir = '/home/anish/Documents/Jupyter Notebook/SA-DLwithPy/CatsVsDogs/cats_and_dogs_small'\n",
    "train_dir = os.path.join(base_dir, 'train')\n",
    "validation_dir = os.path.join(base_dir, 'validation')\n",
    "test_dir = os.path.join(base_dir, 'test')\n",
    "\n",
    "#data preprocessing and genetating using imagedatagen class of keras\n",
    "datagen = ImageDataGenerator(rescale=1./255)\n",
    "batch_size = 20\n",
    "\n",
    "#defining a function - wcich takes two parameter i/p sample image location dir and no of sample images to take \n",
    "#then the function gives features generated from the trained cnn as output by using predict method \n",
    "#it also returns the labels of the corresponding images , both are returned as arrays\n",
    "def extract_features(directory, sample_count):                #two i/p parameters for the function\n",
    "    features = np.zeros(shape=(sample_count, 4, 4, 512))      #initialise zero matrixes (no = sample count) of size same as that of the o/p of the convnet\n",
    "    labels = np.zeros(shape=(sample_count))                   #initialise sample count number of zero matrixes for the labels\n",
    "    generator = datagen.flow_from_directory(                  #generate i/p using flowfromdirectory method of imagedatagen class\n",
    "                directory,                                    #i/p parameter of this function i.e, the path to image\n",
    "                target_size=(150, 150),                       #resizing\n",
    "                batch_size=batch_size,   \n",
    "                class_mode='binary')\n",
    "    i = 0\n",
    "    for inputs_batch, labels_batch in generator:              #generator gives two o/p i/p images and its labels as batches of 20 calling these two and enumerating over those o/p\n",
    "        features_batch = conv_base.predict(inputs_batch)      #using presict method to generate o/p of cnn\n",
    "        features[i * batch_size : (i + 1) * batch_size] = features_batch  #since we have the o/p and i/p in batches of 20 we assign these into a new sinlge array of features\n",
    "        labels[i * batch_size : (i + 1) * batch_size] = labels_batch      #and labels, 1st 20 o/p will be first 20 elements(0 to 19) of this array and in next iteration i=2 and insering the next set into the 20th to 39th elements of this array and so on \n",
    "        i += 1\n",
    "        if i * batch_size >= sample_count:                                #breaking once all data are fed into the convnet, else infinite gen of data\n",
    "            break\n",
    "    return features, labels                                               #returns the o/p features of images from cnn and its corresponding labels\n",
    "\n",
    "#now calling the above function to extract features from the train, validation and test data sets\n",
    "#passing target directory of image locations and the number of samples as input parameters\n",
    "train_features, train_labels = extract_features(train_dir, 2000)\n",
    "validation_features, validation_labels = extract_features(validation_dir, 1000)\n",
    "test_features, test_labels = extract_features(test_dir, 1000)\n",
    "#flattening the o/p before feeding them to the densely conected ,final classification layers\n",
    "train_features = np.reshape(train_features, (2000, 4 * 4 * 512))\n",
    "validation_features = np.reshape(validation_features, (1000, 4 * 4 * 512))\n",
    "test_features = np.reshape(test_features, (1000, 4 * 4 * 512))\n",
    "\n",
    "\n"
   ]
  },
  {
   "cell_type": "code",
   "execution_count": 3,
   "metadata": {},
   "outputs": [
    {
     "name": "stdout",
     "output_type": "stream",
     "text": [
      "WARNING:tensorflow:From /home/anish/Softwares/Anaconda2Software/lib/python2.7/site-packages/tensorflow/python/ops/nn_impl.py:180: where (from tensorflow.python.ops.array_ops) is deprecated and will be removed in a future version.\n",
      "Instructions for updating:\n",
      "Use tf.where in 2.0, which has the same broadcast rule as np.where\n",
      "Train on 2000 samples, validate on 1000 samples\n",
      "Epoch 1/30\n",
      "2000/2000 [==============================] - 4s 2ms/step - loss: 0.5948 - acc: 0.6810 - val_loss: 0.4441 - val_acc: 0.8190\n",
      "Epoch 2/30\n",
      "2000/2000 [==============================] - 3s 2ms/step - loss: 0.4159 - acc: 0.8170 - val_loss: 0.3622 - val_acc: 0.8640\n",
      "Epoch 3/30\n",
      "2000/2000 [==============================] - 3s 2ms/step - loss: 0.3572 - acc: 0.8460 - val_loss: 0.3217 - val_acc: 0.8760\n",
      "Epoch 4/30\n",
      "2000/2000 [==============================] - 3s 2ms/step - loss: 0.3155 - acc: 0.8670 - val_loss: 0.3011 - val_acc: 0.8810\n",
      "Epoch 5/30\n",
      "2000/2000 [==============================] - 4s 2ms/step - loss: 0.2908 - acc: 0.8810 - val_loss: 0.2847 - val_acc: 0.8890\n",
      "Epoch 6/30\n",
      "2000/2000 [==============================] - 3s 2ms/step - loss: 0.2721 - acc: 0.8890 - val_loss: 0.2847 - val_acc: 0.8790\n",
      "Epoch 7/30\n",
      "2000/2000 [==============================] - 4s 2ms/step - loss: 0.2486 - acc: 0.9075 - val_loss: 0.2772 - val_acc: 0.8830\n",
      "Epoch 8/30\n",
      "2000/2000 [==============================] - 3s 2ms/step - loss: 0.2291 - acc: 0.9130 - val_loss: 0.2587 - val_acc: 0.8960\n",
      "Epoch 9/30\n",
      "2000/2000 [==============================] - 4s 2ms/step - loss: 0.2228 - acc: 0.9150 - val_loss: 0.2552 - val_acc: 0.8940\n",
      "Epoch 10/30\n",
      "2000/2000 [==============================] - 4s 2ms/step - loss: 0.2107 - acc: 0.9230 - val_loss: 0.2515 - val_acc: 0.8960\n",
      "Epoch 11/30\n",
      "2000/2000 [==============================] - 3s 2ms/step - loss: 0.2015 - acc: 0.9270 - val_loss: 0.2519 - val_acc: 0.8920\n",
      "Epoch 12/30\n",
      "2000/2000 [==============================] - 3s 2ms/step - loss: 0.1911 - acc: 0.9300 - val_loss: 0.2463 - val_acc: 0.8990\n",
      "Epoch 13/30\n",
      "2000/2000 [==============================] - 4s 2ms/step - loss: 0.1775 - acc: 0.9350 - val_loss: 0.2406 - val_acc: 0.8990\n",
      "Epoch 14/30\n",
      "2000/2000 [==============================] - 3s 2ms/step - loss: 0.1749 - acc: 0.9415 - val_loss: 0.2400 - val_acc: 0.9010\n",
      "Epoch 15/30\n",
      "2000/2000 [==============================] - 4s 2ms/step - loss: 0.1693 - acc: 0.9370 - val_loss: 0.2373 - val_acc: 0.9040\n",
      "Epoch 16/30\n",
      "2000/2000 [==============================] - 4s 2ms/step - loss: 0.1542 - acc: 0.9480 - val_loss: 0.2603 - val_acc: 0.8910\n",
      "Epoch 17/30\n",
      "2000/2000 [==============================] - 3s 2ms/step - loss: 0.1467 - acc: 0.9460 - val_loss: 0.2383 - val_acc: 0.9030\n",
      "Epoch 18/30\n",
      "2000/2000 [==============================] - 3s 2ms/step - loss: 0.1491 - acc: 0.9500 - val_loss: 0.2410 - val_acc: 0.8970\n",
      "Epoch 19/30\n",
      "2000/2000 [==============================] - 4s 2ms/step - loss: 0.1408 - acc: 0.9510 - val_loss: 0.2344 - val_acc: 0.9010\n",
      "Epoch 20/30\n",
      "2000/2000 [==============================] - 4s 2ms/step - loss: 0.1357 - acc: 0.9510 - val_loss: 0.2349 - val_acc: 0.9060\n",
      "Epoch 21/30\n",
      "2000/2000 [==============================] - 4s 2ms/step - loss: 0.1337 - acc: 0.9535 - val_loss: 0.2382 - val_acc: 0.8980\n",
      "Epoch 22/30\n",
      "2000/2000 [==============================] - 4s 2ms/step - loss: 0.1229 - acc: 0.9620 - val_loss: 0.2352 - val_acc: 0.8990\n",
      "Epoch 23/30\n",
      "2000/2000 [==============================] - 4s 2ms/step - loss: 0.1187 - acc: 0.9625 - val_loss: 0.2341 - val_acc: 0.9000\n",
      "Epoch 24/30\n",
      "2000/2000 [==============================] - 4s 2ms/step - loss: 0.1142 - acc: 0.9625 - val_loss: 0.2368 - val_acc: 0.8980\n",
      "Epoch 25/30\n",
      "2000/2000 [==============================] - 4s 2ms/step - loss: 0.1127 - acc: 0.9635 - val_loss: 0.2356 - val_acc: 0.8960\n",
      "Epoch 26/30\n",
      "2000/2000 [==============================] - 4s 2ms/step - loss: 0.1048 - acc: 0.9655 - val_loss: 0.2352 - val_acc: 0.9050\n",
      "Epoch 27/30\n",
      "2000/2000 [==============================] - 4s 2ms/step - loss: 0.1011 - acc: 0.9670 - val_loss: 0.2471 - val_acc: 0.9000\n",
      "Epoch 28/30\n",
      "2000/2000 [==============================] - 3s 2ms/step - loss: 0.0994 - acc: 0.9675 - val_loss: 0.2363 - val_acc: 0.8970\n",
      "Epoch 29/30\n",
      "2000/2000 [==============================] - 3s 2ms/step - loss: 0.0951 - acc: 0.9670 - val_loss: 0.2396 - val_acc: 0.8990\n",
      "Epoch 30/30\n",
      "2000/2000 [==============================] - 3s 2ms/step - loss: 0.0952 - acc: 0.9695 - val_loss: 0.2463 - val_acc: 0.9010\n"
     ]
    }
   ],
   "source": [
    "#designing and training the densely connected classifier\n",
    "from keras import models\n",
    "from keras import layers\n",
    "from keras import optimizers\n",
    "\n",
    "#designing the network architecture with the densely connected layer\n",
    "#considering the dropout method for regularisation\n",
    "model = models.Sequential()\n",
    "model.add(layers.Dense(256, activation='relu', input_dim=4 * 4 * 512))  #dense layer with 256 o/p(neurons) and i/p the array of 4*4*512 flattened values corresponding to feature of each image\n",
    "model.add(layers.Dropout(0.5))                                          #adding dropuot regularisation method\n",
    "model.add(layers.Dense(1, activation='sigmoid'))                        #final o/p with 1 neuron giving the info if image is a cat or a dog using sigmoid activation function\n",
    "\n",
    "#compilation of the designed neuran network\n",
    "model.compile(optimizer=optimizers.RMSprop(lr=2e-5),\n",
    "              loss='binary_crossentropy',\n",
    "              metrics=['acc'])\n",
    "\n",
    "#now fitting the data o/p of pretrained convnet to the corresponding image labels using the dense classifier network\n",
    "history = model.fit(train_features, train_labels,\n",
    "          epochs=30,\n",
    "          batch_size=20,\n",
    "          validation_data=(validation_features, validation_labels))\n",
    "\n",
    "\n",
    "\n",
    "\n",
    "\n",
    "\n"
   ]
  },
  {
   "cell_type": "code",
   "execution_count": 5,
   "metadata": {},
   "outputs": [
    {
     "data": {
      "image/png": "[encoded data removed]",
      "text/plain": [
       "<Figure size 432x288 with 1 Axes>"
      ]
     },
     "metadata": {
      "needs_background": "light"
     },
     "output_type": "display_data"
    },
    {
     "data": {
      "image/png": "[encoded data removed]",
      "text/plain": [
       "<Figure size 432x288 with 1 Axes>"
      ]
     },
     "metadata": {
      "needs_background": "light"
     },
     "output_type": "display_data"
    }
   ],
   "source": [
    "#plotting the results - training (accuracy and losses) vs validation (accuracy and losses)\n",
    "import matplotlib.pyplot as plt\n",
    "\n",
    "acc = history.history['acc']\n",
    "val_acc = history.history['val_acc']\n",
    "loss = history.history['loss']\n",
    "val_loss = history.history['val_loss']\n",
    "\n",
    "epochs = range(1, len(acc) + 1)\n",
    "\n",
    "plt.plot(epochs, acc, 'bo', label='Training acc')\n",
    "plt.plot(epochs, val_acc, 'b', label='Validation acc')\n",
    "plt.title('Training and validation accuracy')\n",
    "plt.legend()\n",
    "plt.figure()\n",
    "\n",
    "plt.plot(epochs, loss, 'bo', label='Training loss')\n",
    "plt.plot(epochs, val_loss, 'b', label='Validation loss')\n",
    "plt.title('Training and validation loss')\n",
    "plt.legend()\n",
    "\n",
    "plt.show()"
   ]
  },
  {
   "cell_type": "code",
   "execution_count": null,
   "metadata": {},
   "outputs": [],
   "source": []
  }
 ],
 "metadata": {
  "kernelspec": {
   "display_name": "Python 2",
   "language": "python",
   "name": "python2"
  },
  "language_info": {
   "codemirror_mode": {
    "name": "ipython",
    "version": 2
   },
   "file_extension": ".py",
   "mimetype": "text/x-python",
   "name": "python",
   "nbconvert_exporter": "python",
   "pygments_lexer": "ipython2",
   "version": "2.7.16"
  }
 },
 "nbformat": 4,
 "nbformat_minor": 2
}
