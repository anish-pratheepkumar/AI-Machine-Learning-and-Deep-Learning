{
 "cells": [
  {
   "cell_type": "code",
   "execution_count": null,
   "metadata": {},
   "outputs": [],
   "source": [
    "from keras import layers\n",
    "from keras import models\n",
    "\n",
    "#network design with 4 conv layer and 2 dense(fully connected layer) \n",
    "model = models.Sequential()\n",
    "model.add(layers.Conv2D(32, (3, 3), activation='relu', input_shape=(150, 150, 3))) #using 32nos of 3x3 kernels (each kernel has depth of size 3 just like the i/p image)\n",
    "model.add(layers.MaxPooling2D((2, 2)))\n",
    "model.add(layers.Conv2D(64, (3, 3), activation='relu'))\n",
    "model.add(layers.MaxPooling2D((2, 2)))\n",
    "model.add(layers.Conv2D(128, (3, 3), activation='relu'))\n",
    "model.add(layers.MaxPooling2D((2, 2)))\n",
    "model.add(layers.Conv2D(128, (3, 3), activation='relu'))\n",
    "model.add(layers.MaxPooling2D((2, 2)))\n",
    "#flattening the o/p after conv layers, since the dense layer accept i/p as 1D vector not as a matrix\n",
    "model.add(layers.Flatten())\n",
    "model.add(layers.Dense(512, activation='relu'))\n",
    "model.add(layers.Dense(1, activation='sigmoid'))          #sigmoid activation gives probability to which of the classes the i/p image belong\n",
    "\n",
    "#model configuration\n",
    "from keras import optimizers\n",
    "\n",
    "model.compile(loss='binary_crossentropy',\n",
    "              optimizer=optimizers.RMSprop(lr=1e-4),\n",
    "              metrics=['acc'])\n",
    "\n",
    "    \n",
    "    "
   ]
  },
  {
   "cell_type": "code",
   "execution_count": 1,
   "metadata": {},
   "outputs": [
    {
     "name": "stderr",
     "output_type": "stream",
     "text": [
      "Using TensorFlow backend.\n"
     ]
    },
    {
     "ename": "NameError",
     "evalue": "name 'train_dir' is not defined",
     "output_type": "error",
     "traceback": [
      "\u001b[0;31m---------------------------------------------------------------------------\u001b[0m",
      "\u001b[0;31mNameError\u001b[0m                                 Traceback (most recent call last)",
      "\u001b[0;32m<ipython-input-1-cee50b10f99a>\u001b[0m in \u001b[0;36m<module>\u001b[0;34m()\u001b[0m\n\u001b[1;32m      6\u001b[0m \u001b[0;34m\u001b[0m\u001b[0m\n\u001b[1;32m      7\u001b[0m train_generator = train_datagen.flow_from_directory(      #using flow_from_directory method of ImageDataGen  class to generate images with labels of cats/dogs\n\u001b[0;32m----> 8\u001b[0;31m                   \u001b[0mtrain_dir\u001b[0m\u001b[0;34m,\u001b[0m                              \u001b[0;31m#directory from which the data is being generated\u001b[0m\u001b[0;34m\u001b[0m\u001b[0m\n\u001b[0m\u001b[1;32m      9\u001b[0m                   \u001b[0mtarget_size\u001b[0m\u001b[0;34m=\u001b[0m\u001b[0;34m(\u001b[0m\u001b[0;36m150\u001b[0m\u001b[0;34m,\u001b[0m \u001b[0;36m150\u001b[0m\u001b[0;34m)\u001b[0m\u001b[0;34m,\u001b[0m                 \u001b[0;31m#resizes the input image to 150x150\u001b[0m\u001b[0;34m\u001b[0m\u001b[0m\n\u001b[1;32m     10\u001b[0m                   \u001b[0mbatch_size\u001b[0m\u001b[0;34m=\u001b[0m\u001b[0;36m20\u001b[0m\u001b[0;34m,\u001b[0m                          \u001b[0;31m#the data will be generated in batches of 20 samples each\u001b[0m\u001b[0;34m\u001b[0m\u001b[0m\n",
      "\u001b[0;31mNameError\u001b[0m: name 'train_dir' is not defined"
     ]
    }
   ],
   "source": [
    "#data preprocessing - done with ImageDataGenerator class of Keras\n",
    "from keras.preprocessing.image import ImageDataGenerator\n",
    "\n",
    "train_datagen = ImageDataGenerator(rescale=1./255)        #argument rescale of method ImageDataGen rescales the pixel values of the image (which is btwn 0 to 255 i.e, 8bit) to [0,1]\n",
    "test_datagen = ImageDataGenerator(rescale=1./255)         #by dividing it by 255\n",
    "\n",
    "train_generator = train_datagen.flow_from_directory(      #using flow_from_directory method of ImageDataGen  class to generate images with labels of cats/dogs\n",
    "                  train_dir,                              #directory from which the data is being generated\n",
    "                  target_size=(150, 150),                 #resizes the input image to 150x150\n",
    "                  batch_size=20,                          #the data will be generated in batches of 20 samples each\n",
    "                  class_mode='binary')                    #the binary class_mode sets the 2 sub classes in sub directories of train_data as the labels of i/p data\n",
    "\n",
    "validation_generator = test_datagen.flow_from_directory(  #generates validation data from validation directory like above\n",
    "                       validation_dir,\n",
    "                       target_size=(150, 150),\n",
    "                       batch_size=20,\n",
    "                       class_mode='binary')\n",
    "\n",
    "for data_batch, labels_batch in train_generator:\n",
    "    print('data batch shape:', data_batch.shape)\n",
    "    print('labels batch shape:', labels_batch.shape)\n",
    "    break\n",
    "\n",
    "\n",
    "\n",
    "\n",
    "\n",
    "\n",
    "\n",
    "\n"
   ]
  }
 ],
 "metadata": {
  "kernelspec": {
   "display_name": "Python 2",
   "language": "python",
   "name": "python2"
  },
  "language_info": {
   "codemirror_mode": {
    "name": "ipython",
    "version": 2
   },
   "file_extension": ".py",
   "mimetype": "text/x-python",
   "name": "python",
   "nbconvert_exporter": "python",
   "pygments_lexer": "ipython2",
   "version": "2.7.16"
  }
 },
 "nbformat": 4,
 "nbformat_minor": 2
}
