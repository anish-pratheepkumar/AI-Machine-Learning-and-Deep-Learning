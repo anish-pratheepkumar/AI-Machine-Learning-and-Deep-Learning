{
 "cells": [
  {
   "cell_type": "code",
   "execution_count": 4,
   "metadata": {},
   "outputs": [],
   "source": [
    "import os, shutil\n",
    "\n",
    "#kaggle_original_data folder already exists and its path is saved in an object\n",
    "original_dataset_dir = '/home/anish/Documents/Jupyter Notebook/DL with Py/CatsVsDogs/kaggle_original_data'\n",
    "\n",
    "#creates a new folder- cats_and_dogs_small, inside catsvsdogs \n",
    "base_dir = '/home/anish/Documents/Jupyter Notebook/DL with Py/CatsVsDogs/cats_and_dogs_small'\n",
    "os.mkdir(base_dir)\n",
    "\n",
    "#inside cats_and_dogs_small creates 3 folders - train, validation & test\n",
    "train_dir = os.path.join(base_dir, 'train')\n",
    "os.mkdir(train_dir)\n",
    "validation_dir = os.path.join(base_dir, 'validation')\n",
    "os.mkdir(validation_dir)\n",
    "test_dir = os.path.join(base_dir, 'test')\n",
    "os.mkdir(test_dir)\n",
    "\n",
    "#inside train folder creates 2 folders - cats and dogs\n",
    "train_cats_dir = os.path.join(train_dir, 'cats')\n",
    "os.mkdir(train_cats_dir)\n",
    "train_dogs_dir = os.path.join(train_dir, 'dogs')\n",
    "os.mkdir(train_dogs_dir)\n",
    "\n",
    "#inside validation folder creates 2 folders - cats and dogs\n",
    "validation_cats_dir = os.path.join(validation_dir, 'cats')\n",
    "os.mkdir(validation_cats_dir)\n",
    "validation_dogs_dir = os.path.join(validation_dir, 'dogs')\n",
    "os.mkdir(validation_dogs_dir)\n",
    "\n",
    "#inside validation folder creates 2 folders - cats and dogs\n",
    "test_cats_dir = os.path.join(test_dir, 'cats')\n",
    "os.mkdir(test_cats_dir)\n",
    "test_dogs_dir = os.path.join(test_dir, 'dogs')\n",
    "os.mkdir(test_dogs_dir)\n",
    "\n",
    "#now copying 1000 cat sample images from kaggle folder to cat folder in train folder\n",
    "fnames = ['cat.{}.jpg'.format(i) for i in range(1000)] #format is a string method which inserts the value of 'i' inside the {} brackets. here value from 0 to 999 eventually creating a list of 1000 cats names\n",
    "for fname in fnames:                                   #fname enumerates over each element inside fnames list created above\n",
    "    src = os.path.join(original_dataset_dir, fname)        #select the cat image corresponding to fname from kaggle data\n",
    "    dst = os.path.join(train_cats_dir, fname)              #sets the location to copy the file selected above\n",
    "    shutil.copyfile(src, dst)                              #implements the copying action\n",
    "\n",
    "#copying 500 cat pictures from 1000 t0 1499 as validation set to cat folder in validation folder\n",
    "fnames = ['cat.{}.jpg'.format(i) for i in range(1000, 1500)]\n",
    "for fname in fnames:\n",
    "    src = os.path.join(original_dataset_dir, fname)\n",
    "    dst = os.path.join(validation_cats_dir, fname)\n",
    "    shutil.copyfile(src, dst)\n",
    "\n",
    "#copying 500 cat pictures from 1500 t0 1999 as test set to cat in test folder\n",
    "fnames = ['cat.{}.jpg'.format(i) for i in range(1500, 2000)]\n",
    "for fname in fnames:\n",
    "    src = os.path.join(original_dataset_dir, fname)\n",
    "    dst = os.path.join(test_cats_dir, fname)\n",
    "    shutil.copyfile(src, dst)\n",
    "\n",
    "#copying 1000 dog pictures from 0 to 999 as train set to dog folder in train folder\n",
    "fnames = ['dog.{}.jpg'.format(i) for i in range(1000)]\n",
    "for fname in fnames:\n",
    "    src = os.path.join(original_dataset_dir, fname)\n",
    "    dst = os.path.join(train_dogs_dir, fname)\n",
    "    shutil.copyfile(src, dst)\n",
    "\n",
    "#copying 500 dog pictures from 1000 to 1499 as validation set to dog folder in validation folder\n",
    "fnames = ['dog.{}.jpg'.format(i) for i in range(1000, 1500)]\n",
    "for fname in fnames:\n",
    "    src = os.path.join(original_dataset_dir, fname)\n",
    "    dst = os.path.join(validation_dogs_dir, fname)\n",
    "    shutil.copyfile(src, dst)\n",
    "\n",
    "#copying 500 dog pictures from 1500 to 1999 as test set to dog folder in test folder\n",
    "fnames = ['dog.{}.jpg'.format(i) for i in range(1500, 2000)]\n",
    "for fname in fnames:\n",
    "    src = os.path.join(original_dataset_dir, fname)\n",
    "    dst = os.path.join(test_dogs_dir, fname)\n",
    "    shutil.copyfile(src, dst)\n",
    "\n"
   ]
  },
  {
   "cell_type": "code",
   "execution_count": 9,
   "metadata": {},
   "outputs": [
    {
     "name": "stdout",
     "output_type": "stream",
     "text": [
      "total training cat images: 1000\n",
      "total training dog images: 1000\n",
      "total validation cat images: 500\n",
      "total validation dog images: 500\n",
      "total test cat images: 500\n",
      "total test dog images: 500\n"
     ]
    }
   ],
   "source": [
    "#verifying the data distribution implemented above\n",
    "#os.lidtdir - return a list containing the names of the entries in the directory given by path\n",
    "print 'total training cat images:', len(os.listdir(train_cats_dir))\n",
    "print 'total training dog images:', len(os.listdir(train_dogs_dir))\n",
    "print 'total validation cat images:', len(os.listdir(validation_cats_dir))\n",
    "print 'total validation dog images:', len((os.listdir(validation_dogs_dir)))\n",
    "print 'total test cat images:', len(os.listdir(test_cats_dir))\n",
    "print 'total test dog images:', len(os.listdir(test_dogs_dir))"
   ]
  },
  {
   "cell_type": "code",
   "execution_count": null,
   "metadata": {},
   "outputs": [],
   "source": []
  },
  {
   "cell_type": "code",
   "execution_count": null,
   "metadata": {},
   "outputs": [],
   "source": []
  }
 ],
 "metadata": {
  "kernelspec": {
   "display_name": "Python 2",
   "language": "python",
   "name": "python2"
  },
  "language_info": {
   "codemirror_mode": {
    "name": "ipython",
    "version": 2
   },
   "file_extension": ".py",
   "mimetype": "text/x-python",
   "name": "python",
   "nbconvert_exporter": "python",
   "pygments_lexer": "ipython2",
   "version": "2.7.16"
  }
 },
 "nbformat": 4,
 "nbformat_minor": 2
}
