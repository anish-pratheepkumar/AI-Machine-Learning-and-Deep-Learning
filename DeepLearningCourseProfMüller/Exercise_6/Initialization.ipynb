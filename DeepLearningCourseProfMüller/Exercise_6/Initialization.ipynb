{
 "cells": [
  {
   "cell_type": "code",
   "execution_count": null,
   "metadata": {},
   "outputs": [],
   "source": [
    "%load_ext autoreload\n",
    "%autoreload 2\n",
    "\n",
    "import matplotlib.pyplot as plt\n",
    "%matplotlib inline\n",
    "\n",
    "import numpy as np\n",
    "import torch\n",
    "import torch.nn as nn\n",
    "\n",
    "from utils import init_weights, BatchNorm"
   ]
  },
  {
   "cell_type": "markdown",
   "metadata": {},
   "source": [
    "# Initialization"
   ]
  },
  {
   "cell_type": "markdown",
   "metadata": {},
   "source": [
    "Consider the following network:"
   ]
  },
  {
   "cell_type": "code",
   "execution_count": null,
   "metadata": {},
   "outputs": [],
   "source": [
    "class Network(nn.Module):\n",
    "    \n",
    "    def __init__(self):\n",
    "        super().__init__()\n",
    "        self.layers = nn.Sequential(nn.Linear(10, 100),\n",
    "                                    nn.ReLU(),\n",
    "                                    nn.Linear(100, 100),\n",
    "                                    nn.ReLU(),\n",
    "                                    nn.Linear(100, 100),\n",
    "                                    nn.ReLU(),\n",
    "                                    nn.Linear(100, 100),\n",
    "                                   )\n",
    "    \n",
    "    def forward(self, x):\n",
    "        return self.layers(x)\n",
    "\n",
    "    \n",
    "def hook_fun(module, input, output):\n",
    "    activations.append(output)"
   ]
  },
  {
   "cell_type": "markdown",
   "metadata": {},
   "source": [
    "Execute the following cells and observe the statistics of the layer outputs:"
   ]
  },
  {
   "cell_type": "code",
   "execution_count": null,
   "metadata": {},
   "outputs": [],
   "source": [
    "x = torch.randn(100, 10)"
   ]
  },
  {
   "cell_type": "code",
   "execution_count": null,
   "metadata": {},
   "outputs": [],
   "source": [
    "net = Network()"
   ]
  },
  {
   "cell_type": "code",
   "execution_count": null,
   "metadata": {},
   "outputs": [],
   "source": [
    "def hook_fun(module, input, output):\n",
    "    activations.append(output)"
   ]
  },
  {
   "cell_type": "code",
   "execution_count": null,
   "metadata": {},
   "outputs": [],
   "source": [
    "hooks = []\n",
    "activations = []\n",
    "\n",
    "for layer in net.layers:\n",
    "    hook = layer.register_forward_hook(hook_fun)\n",
    "    hooks.append(hook)\n",
    "\n",
    "with torch.no_grad():\n",
    "    res = net(x)\n",
    "\n",
    "for hook in hooks:\n",
    "    hook.remove()"
   ]
  },
  {
   "cell_type": "code",
   "execution_count": null,
   "metadata": {},
   "outputs": [],
   "source": [
    "plt.figure(figsize=(15, 15))\n",
    "\n",
    "for i, act in enumerate(activations):\n",
    "    plt.subplot(4, 2, i+1)\n",
    "    plt.hist(act.reshape(-1), bins=9, density=True, range=(-2.1,2.1))\n",
    "    plt.gca().set_ylim(0, 1)\n"
   ]
  },
  {
   "cell_type": "code",
   "execution_count": null,
   "metadata": {},
   "outputs": [],
   "source": [
    "print(res.var())"
   ]
  },
  {
   "cell_type": "markdown",
   "metadata": {},
   "source": [
    "# Kaiming Initialization"
   ]
  },
  {
   "cell_type": "markdown",
   "metadata": {},
   "source": [
    "Implement the initialization method by Kaiming He as introduced in the lecture, also see https://www.cv-foundation.org/openaccess/content_iccv_2015/papers/He_Delving_Deep_into_ICCV_2015_paper.pdf. Therefore complete the ``init_weights`` function in ``utils.py``. For recursively applying a method to the network's modules, we use ``torch.nn.Module.apply``, https://pytorch.org/docs/stable/nn.html?highlight=apply#torch.nn.Module.apply."
   ]
  },
  {
   "cell_type": "code",
   "execution_count": null,
   "metadata": {},
   "outputs": [],
   "source": [
    "net.apply(init_weights);"
   ]
  },
  {
   "cell_type": "code",
   "execution_count": null,
   "metadata": {},
   "outputs": [],
   "source": [
    "hooks = []\n",
    "activations = []\n",
    "\n",
    "for layer in net.layers:\n",
    "    hook = layer.register_forward_hook(hook_fun)\n",
    "    hooks.append(hook)\n",
    "\n",
    "with torch.no_grad():\n",
    "    res = net(x)\n",
    "\n",
    "for hook in hooks:\n",
    "    hook.remove()"
   ]
  },
  {
   "cell_type": "code",
   "execution_count": null,
   "metadata": {},
   "outputs": [],
   "source": [
    "plt.figure(figsize=(15, 15))\n",
    "\n",
    "for i, act in enumerate(activations):\n",
    "    plt.subplot(4, 2, i+1)\n",
    "    plt.hist(act.reshape(-1), bins=9, density=True, range=(-2.1,2.1))\n",
    "    plt.gca().set_ylim(0, 1)\n"
   ]
  },
  {
   "cell_type": "code",
   "execution_count": null,
   "metadata": {},
   "outputs": [],
   "source": [
    "print(res.var())"
   ]
  },
  {
   "cell_type": "markdown",
   "metadata": {},
   "source": [
    "# Batch Normalization"
   ]
  },
  {
   "cell_type": "markdown",
   "metadata": {},
   "source": [
    "From the lecture you already know a different strategy for stabilizing the training of deep networks: Batch normalization. Consider an input of size $B \\times C$. For each channel $C$ the batch norm layer takes all $B$ values of the batch elements and normalizes them accordingly. Afterwards it rescales the output with a learnable deviation and adds a bias parameter per channel, see e.g. https://pytorch.org/docs/stable/nn.html?highlight=apply#torch.nn.tchNorm2d and https://arxiv.org/abs/1502.03167. At inference time, the batch norm layer 'normalizes' one input image by using running estimates of the deviations and biases of the inputs so far. Implement ``BatchNorm`` in ``utils.py``. Initialize the learnable parameters in such a way that the layer initially returns the channel-wise normed input. At the first forward pass, set the running mean and variance to those of the first mini-batch. Afterwards update them by taking the weighted sum of the current and the running means and variances. Further details are provided in the comments in ``utils.py``."
   ]
  },
  {
   "cell_type": "code",
   "execution_count": null,
   "metadata": {},
   "outputs": [],
   "source": [
    "bn = BatchNorm(10)\n",
    "\n",
    "torch.manual_seed(0)\n",
    "x1 = torch.randn(4, 10)\n",
    "x2 = torch.randn(4, 10)\n",
    "x3 = torch.randn(4, 10)\n",
    "\n",
    "with torch.no_grad():\n",
    "    res1 = bn(x1)\n",
    "    bn.sigma.data = bn.sigma * 2\n",
    "    bn.mu.data = bn.mu + 1\n",
    "    res2 = bn(x2)\n",
    "    bn.eval()\n",
    "    res3 = bn(x3)\n",
    "\n",
    "assert (res1.mean(dim=0) - 0).abs().max()<1e-6 and (res1.var(dim=0) - 1).abs().max()<1e-3\n",
    "assert (res2.mean(dim=0) - 1).abs().max()<1e-6 and (res2.var(dim=0) - 4).abs().max()<1e-3\n",
    "assert (res3.mean() - 1.3529).abs().max()<1e-3 and (res3.var() - 4.6663).abs().max()<1e-3"
   ]
  }
 ],
 "metadata": {
  "kernelspec": {
   "display_name": "Python 3",
   "language": "python",
   "name": "python3"
  },
  "language_info": {
   "codemirror_mode": {
    "name": "ipython",
    "version": 3
   },
   "file_extension": ".py",
   "mimetype": "text/x-python",
   "name": "python",
   "nbconvert_exporter": "python",
   "pygments_lexer": "ipython3",
   "version": "3.7.3"
  }
 },
 "nbformat": 4,
 "nbformat_minor": 2
}
