{
 "cells": [
  {
   "cell_type": "code",
   "execution_count": 3,
   "metadata": {},
   "outputs": [
    {
     "name": "stdout",
     "output_type": "stream",
     "text": [
      "[ 0  3  1  0  5  6  0  0  0 10]\n"
     ]
    }
   ],
   "source": [
    "import numpy as np\n",
    "layer_output = np.array([2,3,1,0,5,6,7,8,9,10])\n",
    "layer_output *= np.random.randint(0, high=2, size=10)\n",
    "print (layer_output)\n",
    "\n"
   ]
  },
  {
   "cell_type": "code",
   "execution_count": 65,
   "metadata": {
    "scrolled": true
   },
   "outputs": [
    {
     "name": "stdout",
     "output_type": "stream",
     "text": [
      "tensor([[0., 1., 1., 1., 1., 1., 1., 1., 1., 1.],\n",
      "        [1., 0., 1., 1., 1., 1., 0., 1., 0., 1.]])\n"
     ]
    }
   ],
   "source": [
    "\n",
    "import torch\n",
    "b = torch.distributions.bernoulli.Bernoulli(probs=1-0.1)\n",
    "x = b.sample([2,10]) \n",
    "print (x)"
   ]
  },
  {
   "cell_type": "code",
   "execution_count": 93,
   "metadata": {},
   "outputs": [
    {
     "name": "stdout",
     "output_type": "stream",
     "text": [
      "[[ True  True False  True  True  True  True  True  True  True]\n",
      " [ True  True  True  True  True  True False  True  True False]]\n"
     ]
    }
   ],
   "source": [
    "w = np.ones([2, 10])\n",
    "b = np.random.rand(2, 10) < 0.8\n",
    "res = np.multiply(w,b)\n",
    "print (b)"
   ]
  },
  {
   "cell_type": "code",
   "execution_count": null,
   "metadata": {},
   "outputs": [],
   "source": []
  },
  {
   "cell_type": "code",
   "execution_count": null,
   "metadata": {},
   "outputs": [],
   "source": []
  }
 ],
 "metadata": {
  "kernelspec": {
   "display_name": "Python 3",
   "language": "python",
   "name": "python3"
  },
  "language_info": {
   "codemirror_mode": {
    "name": "ipython",
    "version": 3
   },
   "file_extension": ".py",
   "mimetype": "text/x-python",
   "name": "python",
   "nbconvert_exporter": "python",
   "pygments_lexer": "ipython3",
   "version": "3.7.5"
  }
 },
 "nbformat": 4,
 "nbformat_minor": 2
}
