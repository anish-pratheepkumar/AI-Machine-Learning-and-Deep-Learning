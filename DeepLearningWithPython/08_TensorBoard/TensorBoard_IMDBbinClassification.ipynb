{
 "cells": [
  {
   "cell_type": "code",
   "execution_count": 1,
   "metadata": {},
   "outputs": [
    {
     "name": "stderr",
     "output_type": "stream",
     "text": [
      "Using TensorFlow backend.\n"
     ]
    },
    {
     "name": "stdout",
     "output_type": "stream",
     "text": [
      "WARNING:tensorflow:From /home/anish/Softwares/Anaconda2Software/lib/python2.7/site-packages/tensorflow/python/ops/nn_impl.py:180: where (from tensorflow.python.ops.array_ops) is deprecated and will be removed in a future version.\n",
      "Instructions for updating:\n",
      "Use tf.where in 2.0, which has the same broadcast rule as np.where\n",
      "WARNING:tensorflow:From /home/anish/Softwares/Anaconda2Software/lib/python2.7/site-packages/keras/backend/tensorflow_backend.py:422: The name tf.global_variables is deprecated. Please use tf.compat.v1.global_variables instead.\n",
      "\n",
      "Train on 15000 samples, validate on 10000 samples\n",
      "Epoch 1/20\n",
      "15000/15000 [==============================] - 2s 132us/step - loss: 0.5112 - acc: 0.7829 - val_loss: 0.3800 - val_acc: 0.8695\n",
      "Epoch 2/20\n",
      "15000/15000 [==============================] - 2s 109us/step - loss: 0.2989 - acc: 0.9047 - val_loss: 0.3057 - val_acc: 0.8825\n",
      "Epoch 3/20\n",
      "15000/15000 [==============================] - 2s 109us/step - loss: 0.2169 - acc: 0.9297 - val_loss: 0.2764 - val_acc: 0.8903\n",
      "Epoch 4/20\n",
      "15000/15000 [==============================] - 2s 109us/step - loss: 0.1690 - acc: 0.9444 - val_loss: 0.2765 - val_acc: 0.8890\n",
      "Epoch 5/20\n",
      "15000/15000 [==============================] - 2s 110us/step - loss: 0.1366 - acc: 0.9567 - val_loss: 0.2955 - val_acc: 0.8821\n",
      "Epoch 6/20\n",
      "15000/15000 [==============================] - 2s 110us/step - loss: 0.1115 - acc: 0.9655 - val_loss: 0.3000 - val_acc: 0.8868\n",
      "Epoch 7/20\n",
      "15000/15000 [==============================] - 2s 110us/step - loss: 0.0884 - acc: 0.9743 - val_loss: 0.3212 - val_acc: 0.8854\n",
      "Epoch 8/20\n",
      "15000/15000 [==============================] - 2s 109us/step - loss: 0.0735 - acc: 0.9801 - val_loss: 0.3398 - val_acc: 0.8807\n",
      "Epoch 9/20\n",
      "15000/15000 [==============================] - 2s 109us/step - loss: 0.0575 - acc: 0.9855 - val_loss: 0.3630 - val_acc: 0.8819\n",
      "Epoch 10/20\n",
      "15000/15000 [==============================] - 2s 109us/step - loss: 0.0473 - acc: 0.9886 - val_loss: 0.3998 - val_acc: 0.8785\n",
      "Epoch 11/20\n",
      "15000/15000 [==============================] - 2s 109us/step - loss: 0.0350 - acc: 0.9927 - val_loss: 0.4230 - val_acc: 0.8756\n",
      "Epoch 12/20\n",
      "15000/15000 [==============================] - 2s 109us/step - loss: 0.0269 - acc: 0.9951 - val_loss: 0.4570 - val_acc: 0.8756\n",
      "Epoch 13/20\n",
      "15000/15000 [==============================] - 2s 109us/step - loss: 0.0212 - acc: 0.9969 - val_loss: 0.4967 - val_acc: 0.8736\n",
      "Epoch 14/20\n",
      "15000/15000 [==============================] - 2s 122us/step - loss: 0.0181 - acc: 0.9965 - val_loss: 0.5312 - val_acc: 0.8724\n",
      "Epoch 15/20\n",
      "15000/15000 [==============================] - 2s 139us/step - loss: 0.0104 - acc: 0.9989 - val_loss: 0.5901 - val_acc: 0.8682\n",
      "Epoch 16/20\n",
      "15000/15000 [==============================] - 2s 120us/step - loss: 0.0113 - acc: 0.9984 - val_loss: 0.5930 - val_acc: 0.8690\n",
      "Epoch 17/20\n",
      "15000/15000 [==============================] - 2s 111us/step - loss: 0.0050 - acc: 0.9998 - val_loss: 0.6364 - val_acc: 0.8656\n",
      "Epoch 18/20\n",
      "15000/15000 [==============================] - 2s 111us/step - loss: 0.0074 - acc: 0.9983 - val_loss: 0.6655 - val_acc: 0.8677\n",
      "Epoch 19/20\n",
      "15000/15000 [==============================] - 2s 113us/step - loss: 0.0025 - acc: 0.9999 - val_loss: 0.7064 - val_acc: 0.8672\n",
      "Epoch 20/20\n",
      "15000/15000 [==============================] - 2s 116us/step - loss: 0.0071 - acc: 0.9985 - val_loss: 0.7373 - val_acc: 0.8659\n"
     ]
    }
   ],
   "source": [
    "from keras.datasets import imdb\n",
    "\n",
    "(train_data, train_labels), (test_data, test_labels) = imdb.load_data(num_words=10000)\n",
    "\n",
    "#preparing the data\n",
    "#Encoding the integer sequences present in each review of dataset into a binary matrix\n",
    "import numpy as np\n",
    "\n",
    "#defining a function to binarise/vectorise the integer reviews\n",
    "#function takes no of reviews(sequences) and 10000 element in each review as I/p matrix (???)\n",
    "def vectorize_sequences(sequences, dimension=10000):\n",
    "    results = np.zeros((len(sequences), dimension)) #creates an all zero matrix of same i/p matrix size\n",
    "    for i, sequence in enumerate(sequences):        #for loop counts by enumerating over each review/sequences to check sequence/integer inside it\n",
    "        results[i, sequence] = 1.                   #inside result matrix it sets specific indices corresponding to the integer/sequence inside i/sequences to 1\n",
    "    return results                                  #all other indices in result will be zero => a binary matrix\n",
    "\n",
    "x_train = vectorize_sequences(train_data)           #calling fn to binarise the train_data\n",
    "x_test = vectorize_sequences(test_data)             #calling fn to binarise the test_data\n",
    "\n",
    "y_train = np.asarray(train_labels).astype('float32')#vectorising train data/review labels\n",
    "y_test = np.asarray(test_labels).astype('float32')  #vectorising test data/review labels\n",
    "\n",
    "\n",
    "#building the neural network/ defining the network layers\n",
    "#we use 3 Dense type layer, first 2 with o/p size 16(no of neurons) having relu fn and the last one \n",
    "#with o/p size 1 having sigmoid fn giving a probability info btwn 0 and 1 i.e, -ve and +ve review probability\n",
    "from keras import models\n",
    "from keras import layers\n",
    "\n",
    "model = models.Sequential()\n",
    "model.add(layers.Dense(16, activation='relu', input_shape=(10000,))) #i/p shape is 10000 since we created the binary input with each review vector(results) having 10000 elements\n",
    "model.add(layers.Dense(16, activation='relu'))\n",
    "model.add(layers.Dense(1, activation='sigmoid'))\n",
    "\n",
    "#configuring learning process with loss function-rmsprop, optimiser-bin crossentropy and metrics-accuracy\n",
    "model.compile(optimizer='rmsprop',\n",
    "             loss='binary_crossentropy',\n",
    "             metrics=['acc'])\n",
    "\n",
    "#setting aside validation data set for monitoring the accuracy of the model on data it has never seen before while the training is ongoing\n",
    "x_val = x_train[:10000]                            #takes first 10000 sequences/reviews for validation\n",
    "partial_x_train = x_train[10000:]                  #takes the remaining sequences/revies for training \n",
    "\n",
    "y_val = y_train[:10000]                            #takes first 10000 targets for validation\n",
    "partial_y_train = y_train[10000:]                  #takes the remaining targets for training\n",
    "\n",
    "#network training- iterate on the traning data by calling the fit method of the model\n",
    "#training is done with 20 epochs/iterations over all samples in partial x&y train datas and\n",
    "# in mini-batches of 512 samples at the same time training is validated by checking\n",
    "#loss and accuracy on 10000 samtensorboard --logdir=my_log_dirples set aside as validation data set\n",
    "history = model.fit(partial_x_train,\n",
    "                   partial_y_train,\n",
    "                   epochs=20,\n",
    "                   batch_size=512,\n",
    "                   validation_data=(x_val, y_val))"
   ]
  },
  {
   "cell_type": "code",
   "execution_count": 3,
   "metadata": {},
   "outputs": [
    {
     "data": {
      "image/png": "[encoded data removed]",
      "text/plain": [
       "<Figure size 432x288 with 1 Axes>"
      ]
     },
     "metadata": {
      "needs_background": "light"
     },
     "output_type": "display_data"
    }
   ],
   "source": [
    "#Plotting training and validation loss\n",
    "import matplotlib.pyplot as plt\n",
    "\n",
    "history_dict = history.history\n",
    "loss_values = history_dict['loss']\n",
    "val_loss_values = history_dict['val_loss']\n",
    "\n",
    "epochs = range(1, len(loss_values)+1)\n",
    "\n",
    "plt.plot(epochs, loss_values, 'bo', label='Training loss')\n",
    "plt.plot(epochs, val_loss_values, 'b', label='Validation loss')\n",
    "plt.title('Training and validation loss')\n",
    "plt.xlabel('Epochs')\n",
    "plt.ylabel('Loss')\n",
    "plt.legend()\n",
    "\n",
    "plt.show()"
   ]
  },
  {
   "cell_type": "code",
   "execution_count": 4,
   "metadata": {},
   "outputs": [
    {
     "data": {
      "image/png": "[encoded data removed]",
      "text/plain": [
       "<Figure size 432x288 with 1 Axes>"
      ]
     },
     "metadata": {
      "needs_background": "light"
     },
     "output_type": "display_data"
    }
   ],
   "source": [
    "#plotting training and validation accuracy\n",
    "acc_values = history_dict['acc']\n",
    "val_acc_values = history_dict['val_acc']\n",
    "\n",
    "plt.plot(epochs, acc_values, 'bo', label='Training acc')\n",
    "plt.plot(epochs, val_acc_values, 'b', label='Validation acc')\n",
    "plt.title('Training and validation accuracy')\n",
    "plt.xlabel('Epochs')\n",
    "plt.ylabel('Loss')\n",
    "plt.legend()\n",
    "\n",
    "plt.show()"
   ]
  },
  {
   "cell_type": "code",
   "execution_count": 5,
   "metadata": {},
   "outputs": [
    {
     "name": "stdout",
     "output_type": "stream",
     "text": [
      "Epoch 1/4\n",
      "25000/25000 [==============================] - 2s 79us/step - loss: 0.4475 - accuracy: 0.8202\n",
      "Epoch 2/4\n",
      "25000/25000 [==============================] - 2s 74us/step - loss: 0.2593 - accuracy: 0.9104\n",
      "Epoch 3/4\n",
      "25000/25000 [==============================] - 2s 79us/step - loss: 0.2030 - accuracy: 0.9280\n",
      "Epoch 4/4\n",
      "25000/25000 [==============================] - 2s 78us/step - loss: 0.1691 - accuracy: 0.9410\n",
      "25000/25000 [==============================] - 2s 71us/step\n"
     ]
    },
    {
     "data": {
      "text/plain": [
       "[0.29991864953041075, 0.8810399770736694]"
      ]
     },
     "execution_count": 5,
     "metadata": {},
     "output_type": "execute_result"
    }
   ],
   "source": [
    "#from above plots we can see that the validation results are not satisfactory it peaks at\n",
    "#every 4th epoch. this is a case of overfitting where the training data is overoptimised\n",
    "#this means after about 2nd epoch network ends up learning representations that are \n",
    "#specific to training data and dont generalise to data outside of training set\n",
    "#so we retrain a model with 4 epochs to avoid overfitting\n",
    "model = models.Sequential()\n",
    "model.add(layers.Dense(16, activation='relu', input_shape=(10000,)))\n",
    "model.add(layers.Dense(16, activation='relu'))\n",
    "model.add(layers.Dense(1, activation='sigmoid'))\n",
    "\n",
    "model.compile(optimizer='rmsprop',\n",
    "              loss='binary_crossentropy',\n",
    "              metrics=['accuracy'])\n",
    "\n",
    "model.fit(x_train, y_train, epochs=4, batch_size=512)\n",
    "\n",
    "#evaluating the result with test data\n",
    "results = model.evaluate(x_test, y_test)\n",
    "results"
   ]
  }
 ],
 "metadata": {
  "kernelspec": {
   "display_name": "Python 2",
   "language": "python",
   "name": "python2"
  },
  "language_info": {
   "codemirror_mode": {
    "name": "ipython",
    "version": 2
   },
   "file_extension": ".py",
   "mimetype": "text/x-python",
   "name": "python",
   "nbconvert_exporter": "python",
   "pygments_lexer": "ipython2",
   "version": "2.7.17"
  }
 },
 "nbformat": 4,
 "nbformat_minor": 2
}
