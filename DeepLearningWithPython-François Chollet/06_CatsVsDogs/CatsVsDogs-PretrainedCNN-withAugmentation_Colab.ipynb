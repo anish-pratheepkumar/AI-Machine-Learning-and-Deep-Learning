{
 "cells": [
  {
   "cell_type": "code",
   "execution_count": 0,
   "metadata": {
    "colab": {},
    "colab_type": "code",
    "id": "fBOv2jfYrgHq"
   },
   "outputs": [],
   "source": [
    "#using a pretrained cnn - VGG16 (trained on imagenet data set of animals) \n",
    "#this is available as an application in keras\n",
    "from keras.applications import VGG16\n",
    "\n",
    "conv_base = VGG16(weights='imagenet',                          #this argument is weight initialisation we can use either the imagenet weights or random initialisation\n",
    "            include_top=False,                                 #False => not to use the dense layers \n",
    "            input_shape=(150, 150, 3))\n",
    "\n",
    "import os\n",
    "import numpy as np\n",
    "from keras.preprocessing.image import ImageDataGenerator\n",
    "\n",
    "#defining direcory location for the image input to the network, no need to use os.mkdir here since directory is already made before\n",
    "G_Path = '/content/drive/My Drive/Colab Notebooks/'\n",
    "base_dir = G_Path+'cats_and_dogs_small'\n",
    "train_dir = os.path.join(base_dir, 'train')\n",
    "validation_dir = os.path.join(base_dir, 'validation')\n",
    "test_dir = os.path.join(base_dir, 'test')\n"
   ]
  },
  {
   "cell_type": "code",
   "execution_count": 7,
   "metadata": {
    "colab": {
     "base_uri": "https://localhost:8080/",
     "height": 52
    },
    "colab_type": "code",
    "executionInfo": {
     "elapsed": 513,
     "status": "ok",
     "timestamp": 1584905965580,
     "user": {
      "displayName": "anish p. kumar",
      "photoUrl": "https://lh3.googleusercontent.com/a-/AOh14Gjoeq1-iDuQCNzD-79k95WREd1AEiyYgE6ZTugl=s64",
      "userId": "10996228043626486783"
     },
     "user_tz": -60
    },
    "id": "IhfkJTz0rzLZ",
    "outputId": "9f1e0133-39e6-4630-da5f-0b02ce996bd4"
   },
   "outputs": [
    {
     "name": "stdout",
     "output_type": "stream",
     "text": [
      "/content/drive/My Drive/Colab Notebooks/\n",
      "/content/drive/My Drive/Colab Notebooks/cats_and_dogs_small\n"
     ]
    }
   ],
   "source": [
    "G_Path = '/content/drive/My Drive/Colab Notebooks/'\n",
    "base_dir = G_Path+'cats_and_dogs_small'\n",
    "print (G_Path)\n",
    "print (base_dir)\n"
   ]
  },
  {
   "cell_type": "code",
   "execution_count": 8,
   "metadata": {
    "colab": {
     "base_uri": "https://localhost:8080/",
     "height": 54
    },
    "colab_type": "code",
    "executionInfo": {
     "elapsed": 692,
     "status": "ok",
     "timestamp": 1584905967996,
     "user": {
      "displayName": "anish p. kumar",
      "photoUrl": "https://lh3.googleusercontent.com/a-/AOh14Gjoeq1-iDuQCNzD-79k95WREd1AEiyYgE6ZTugl=s64",
      "userId": "10996228043626486783"
     },
     "user_tz": -60
    },
    "id": "pg2G3O2msKXa",
    "outputId": "3f726a4f-ce9b-45ed-9974-8b9b42602f6b"
   },
   "outputs": [
    {
     "name": "stdout",
     "output_type": "stream",
     "text": [
      "Drive already mounted at /content/drive; to attempt to forcibly remount, call drive.mount(\"/content/drive\", force_remount=True).\n"
     ]
    }
   ],
   "source": [
    "from google.colab import drive\n",
    "drive.mount('/content/drive')"
   ]
  },
  {
   "cell_type": "code",
   "execution_count": 9,
   "metadata": {
    "colab": {
     "base_uri": "https://localhost:8080/",
     "height": 52
    },
    "colab_type": "code",
    "executionInfo": {
     "elapsed": 668,
     "status": "ok",
     "timestamp": 1584905971499,
     "user": {
      "displayName": "anish p. kumar",
      "photoUrl": "https://lh3.googleusercontent.com/a-/AOh14Gjoeq1-iDuQCNzD-79k95WREd1AEiyYgE6ZTugl=s64",
      "userId": "10996228043626486783"
     },
     "user_tz": -60
    },
    "id": "JQfCQsyrrgH8",
    "outputId": "3dcf146b-df30-4482-c787-1d8c6859a72e"
   },
   "outputs": [
    {
     "name": "stdout",
     "output_type": "stream",
     "text": [
      "('This is the number of trainable param tensors before freezing the conv base:', 30)\n",
      "('This is the number of trainable param tensors after freezing the conv base:', 4)\n"
     ]
    }
   ],
   "source": [
    "#designing the network architecture with the conv base as first layer and then adding dense classifier to it\n",
    "from keras import models\n",
    "from keras import layers\n",
    "\n",
    "model = models.Sequential()\n",
    "model.add(conv_base)\n",
    "model.add(layers.Flatten())\n",
    "model.add(layers.Dense(256, activation='relu'))\n",
    "model.add(layers.Dense(1, activation='sigmoid'))\n",
    "\n",
    "#freezing the conv base weights so that it is not modified while feeding the data through it\n",
    "print('This is the number of trainable param tensors '\n",
    "      'before freezing the conv base:', len(model.trainable_weights))\n",
    "\n",
    "conv_base.trainable = False\n",
    "\n",
    "print('This is the number of trainable param tensors '\n",
    "      'after freezing the conv base:', len(model.trainable_weights))\n",
    "#4 indicate we have 2 dense layers each ontaining one weight matrix and one bias vector"
   ]
  },
  {
   "cell_type": "code",
   "execution_count": 10,
   "metadata": {
    "colab": {
     "base_uri": "https://localhost:8080/",
     "height": 1000
    },
    "colab_type": "code",
    "executionInfo": {
     "elapsed": 1227899,
     "status": "ok",
     "timestamp": 1584907201489,
     "user": {
      "displayName": "anish p. kumar",
      "photoUrl": "https://lh3.googleusercontent.com/a-/AOh14Gjoeq1-iDuQCNzD-79k95WREd1AEiyYgE6ZTugl=s64",
      "userId": "10996228043626486783"
     },
     "user_tz": -60
    },
    "id": "ObuHwil9rgID",
    "outputId": "e175b877-ee73-4a3f-9d31-f51c37474b91"
   },
   "outputs": [
    {
     "name": "stdout",
     "output_type": "stream",
     "text": [
      "Found 2000 images belonging to 2 classes.\n"
     ]
    },
    {
     "name": "stderr",
     "output_type": "stream",
     "text": [
      "W0322 19:39:40.838674 140476549842816 module_wrapper.py:139] From /usr/local/lib/python2.7/dist-packages/keras/optimizers.py:790: The name tf.train.Optimizer is deprecated. Please use tf.compat.v1.train.Optimizer instead.\n",
      "\n",
      "W0322 19:39:40.850765 140476549842816 module_wrapper.py:139] From /usr/local/lib/python2.7/dist-packages/keras/backend/tensorflow_backend.py:3376: The name tf.log is deprecated. Please use tf.math.log instead.\n",
      "\n",
      "W0322 19:39:40.858378 140476549842816 deprecation.py:323] From /tensorflow-1.15.0/python2.7/tensorflow_core/python/ops/nn_impl.py:183: where (from tensorflow.python.ops.array_ops) is deprecated and will be removed in a future version.\n",
      "Instructions for updating:\n",
      "Use tf.where in 2.0, which has the same broadcast rule as np.where\n"
     ]
    },
    {
     "name": "stdout",
     "output_type": "stream",
     "text": [
      "Found 1000 images belonging to 2 classes.\n"
     ]
    },
    {
     "name": "stderr",
     "output_type": "stream",
     "text": [
      "W0322 19:39:41.049402 140476549842816 module_wrapper.py:139] From /usr/local/lib/python2.7/dist-packages/keras/backend/tensorflow_backend.py:986: The name tf.assign_add is deprecated. Please use tf.compat.v1.assign_add instead.\n",
      "\n",
      "W0322 19:39:41.056690 140476549842816 module_wrapper.py:139] From /usr/local/lib/python2.7/dist-packages/keras/backend/tensorflow_backend.py:973: The name tf.assign is deprecated. Please use tf.compat.v1.assign instead.\n",
      "\n"
     ]
    },
    {
     "name": "stdout",
     "output_type": "stream",
     "text": [
      "Epoch 1/30\n",
      "100/100 [==============================] - 573s 6s/step - loss: 0.6167 - acc: 0.6740 - val_loss: 0.4615 - val_acc: 0.8240\n",
      "Epoch 2/30\n",
      "100/100 [==============================] - 23s 230ms/step - loss: 0.4779 - acc: 0.8000 - val_loss: 0.3820 - val_acc: 0.8430\n",
      "Epoch 3/30\n",
      "100/100 [==============================] - 22s 223ms/step - loss: 0.4332 - acc: 0.8120 - val_loss: 0.3279 - val_acc: 0.8820\n",
      "Epoch 4/30\n",
      "100/100 [==============================] - 22s 224ms/step - loss: 0.3977 - acc: 0.8250 - val_loss: 0.3042 - val_acc: 0.8840\n",
      "Epoch 5/30\n",
      "100/100 [==============================] - 22s 225ms/step - loss: 0.3722 - acc: 0.8410 - val_loss: 0.2901 - val_acc: 0.8930\n",
      "Epoch 6/30\n",
      "100/100 [==============================] - 22s 222ms/step - loss: 0.3602 - acc: 0.8440 - val_loss: 0.2911 - val_acc: 0.8800\n",
      "Epoch 7/30\n",
      "100/100 [==============================] - 22s 224ms/step - loss: 0.3508 - acc: 0.8480 - val_loss: 0.2744 - val_acc: 0.8870\n",
      "Epoch 8/30\n",
      "100/100 [==============================] - 22s 223ms/step - loss: 0.3484 - acc: 0.8520 - val_loss: 0.2624 - val_acc: 0.8990\n",
      "Epoch 9/30\n",
      "100/100 [==============================] - 22s 223ms/step - loss: 0.3394 - acc: 0.8585 - val_loss: 0.2722 - val_acc: 0.8870\n",
      "Epoch 10/30\n",
      "100/100 [==============================] - 23s 225ms/step - loss: 0.3364 - acc: 0.8495 - val_loss: 0.2585 - val_acc: 0.8990\n",
      "Epoch 11/30\n",
      "100/100 [==============================] - 22s 220ms/step - loss: 0.3320 - acc: 0.8585 - val_loss: 0.2569 - val_acc: 0.8970\n",
      "Epoch 12/30\n",
      "100/100 [==============================] - 22s 223ms/step - loss: 0.3151 - acc: 0.8675 - val_loss: 0.2520 - val_acc: 0.9030\n",
      "Epoch 13/30\n",
      "100/100 [==============================] - 22s 223ms/step - loss: 0.3241 - acc: 0.8560 - val_loss: 0.2517 - val_acc: 0.8990\n",
      "Epoch 14/30\n",
      "100/100 [==============================] - 22s 222ms/step - loss: 0.3182 - acc: 0.8640 - val_loss: 0.2513 - val_acc: 0.8990\n",
      "Epoch 15/30\n",
      "100/100 [==============================] - 22s 221ms/step - loss: 0.3093 - acc: 0.8630 - val_loss: 0.2461 - val_acc: 0.9010\n",
      "Epoch 16/30\n",
      "100/100 [==============================] - 23s 227ms/step - loss: 0.3048 - acc: 0.8650 - val_loss: 0.2604 - val_acc: 0.8890\n",
      "Epoch 17/30\n",
      "100/100 [==============================] - 22s 224ms/step - loss: 0.3081 - acc: 0.8555 - val_loss: 0.2449 - val_acc: 0.8960\n",
      "Epoch 18/30\n",
      "100/100 [==============================] - 22s 223ms/step - loss: 0.3003 - acc: 0.8710 - val_loss: 0.2446 - val_acc: 0.9010\n",
      "Epoch 19/30\n",
      "100/100 [==============================] - 23s 225ms/step - loss: 0.3067 - acc: 0.8700 - val_loss: 0.2393 - val_acc: 0.9080\n",
      "Epoch 20/30\n",
      "100/100 [==============================] - 22s 221ms/step - loss: 0.3123 - acc: 0.8645 - val_loss: 0.2434 - val_acc: 0.9030\n",
      "Epoch 21/30\n",
      "100/100 [==============================] - 22s 222ms/step - loss: 0.2906 - acc: 0.8760 - val_loss: 0.2416 - val_acc: 0.9060\n",
      "Epoch 22/30\n",
      "100/100 [==============================] - 22s 220ms/step - loss: 0.2968 - acc: 0.8730 - val_loss: 0.2489 - val_acc: 0.9010\n",
      "Epoch 23/30\n",
      "100/100 [==============================] - 22s 222ms/step - loss: 0.2923 - acc: 0.8770 - val_loss: 0.2375 - val_acc: 0.9060\n",
      "Epoch 24/30\n",
      "100/100 [==============================] - 22s 223ms/step - loss: 0.2947 - acc: 0.8765 - val_loss: 0.2419 - val_acc: 0.9090\n",
      "Epoch 25/30\n",
      "100/100 [==============================] - 22s 224ms/step - loss: 0.2793 - acc: 0.8695 - val_loss: 0.2578 - val_acc: 0.8850\n",
      "Epoch 26/30\n",
      "100/100 [==============================] - 22s 220ms/step - loss: 0.2886 - acc: 0.8750 - val_loss: 0.2413 - val_acc: 0.8990\n",
      "Epoch 27/30\n",
      "100/100 [==============================] - 22s 220ms/step - loss: 0.2913 - acc: 0.8800 - val_loss: 0.2437 - val_acc: 0.8950\n",
      "Epoch 28/30\n",
      "100/100 [==============================] - 22s 221ms/step - loss: 0.2830 - acc: 0.8775 - val_loss: 0.2430 - val_acc: 0.9000\n",
      "Epoch 29/30\n",
      "100/100 [==============================] - 22s 222ms/step - loss: 0.2821 - acc: 0.8795 - val_loss: 0.2406 - val_acc: 0.9030\n",
      "Epoch 30/30\n",
      "100/100 [==============================] - 22s 225ms/step - loss: 0.2868 - acc: 0.8715 - val_loss: 0.2478 - val_acc: 0.9040\n"
     ]
    }
   ],
   "source": [
    "#training the model end to end with the frozen conv base and augmented data i/p to the network\n",
    "from keras.preprocessing.image import ImageDataGenerator\n",
    "from keras import optimizers\n",
    "\n",
    "#augmenting data using imagedatagenerator class of keras\n",
    "train_datagen = ImageDataGenerator(\n",
    "                rescale=1./255,\n",
    "                rotation_range=40,\n",
    "                width_shift_range=0.2,\n",
    "                height_shift_range=0.2,\n",
    "                shear_range=0.2,\n",
    "                zoom_range=0.2,\n",
    "                horizontal_flip=True,\n",
    "                fill_mode='nearest')\n",
    "#validation data is not augmented only rescaled to values btwn 0 and 1 for easy processing of the data\n",
    "test_datagen = ImageDataGenerator(rescale=1./255)\n",
    "\n",
    "#generator fot train data\n",
    "train_generator = train_datagen.flow_from_directory(            #using flow from directory method of imagedatagenerator class to generate datas\n",
    "                  train_dir,                                    #specifying directory from which data is to be loaded\n",
    "                  target_size=(150, 150),                       #resizing the image\n",
    "                  batch_size=20,\n",
    "                  class_mode='binary')\n",
    "\n",
    "#generator fot validation data\n",
    "validation_generator = test_datagen.flow_from_directory(\n",
    "                       validation_dir,\n",
    "                       target_size=(150, 150),\n",
    "                       batch_size=20,\n",
    "                       class_mode='binary')\n",
    "\n",
    "#compiling the designed model\n",
    "model.compile(loss='binary_crossentropy',\n",
    "             optimizer=optimizers.RMSprop(lr=2e-5),\n",
    "             metrics=['acc'])\n",
    "\n",
    "#fitting the generated augmented images to the corresponding labels by using the compiled model \n",
    "history = model.fit_generator( \n",
    "          train_generator,                                #generating the train data\n",
    "          steps_per_epoch=100,                            #breaking the data generation and now its time for weight updates, this marks one epoch\n",
    "          epochs=30,\n",
    "          validation_data=validation_generator,\n",
    "          validation_steps=50)\n"
   ]
  },
  {
   "cell_type": "code",
   "execution_count": 11,
   "metadata": {
    "colab": {
     "base_uri": "https://localhost:8080/",
     "height": 545
    },
    "colab_type": "code",
    "executionInfo": {
     "elapsed": 1074,
     "status": "ok",
     "timestamp": 1584907213432,
     "user": {
      "displayName": "anish p. kumar",
      "photoUrl": "https://lh3.googleusercontent.com/a-/AOh14Gjoeq1-iDuQCNzD-79k95WREd1AEiyYgE6ZTugl=s64",
      "userId": "10996228043626486783"
     },
     "user_tz": -60
    },
    "id": "x75S6TG4rgIM",
    "outputId": "065a6cc9-098e-4610-e42b-055e5d64f229"
   },
   "outputs": [
    {
     "data": {
      "image/png": "[encoded data removed]",
      "text/plain": [
       "<Figure size 432x288 with 1 Axes>"
      ]
     },
     "metadata": {
      "tags": []
     },
     "output_type": "display_data"
    },
    {
     "data": {
      "image/png": "[encoded data removed]",
      "text/plain": [
       "<Figure size 432x288 with 1 Axes>"
      ]
     },
     "metadata": {
      "tags": []
     },
     "output_type": "display_data"
    }
   ],
   "source": [
    "#plotting the results - training (accuracy and losses) vs validation (accuracy and losses)\n",
    "import matplotlib.pyplot as plt\n",
    "\n",
    "acc = history.history['acc']\n",
    "val_acc = history.history['val_acc']\n",
    "loss = history.history['loss']\n",
    "val_loss = history.history['val_loss']\n",
    "\n",
    "epochs = range(1, len(acc) + 1)\n",
    "\n",
    "plt.plot(epochs, acc, 'bo', label='Training acc')\n",
    "plt.plot(epochs, val_acc, 'b', label='Validation acc')\n",
    "plt.title('Training and validation accuracy')\n",
    "plt.legend()\n",
    "plt.figure()\n",
    "\n",
    "plt.plot(epochs, loss, 'bo', label='Training loss')\n",
    "plt.plot(epochs, val_loss, 'b', label='Validation loss')\n",
    "plt.title('Training and validation loss')\n",
    "plt.legend()\n",
    "\n",
    "plt.show()"
   ]
  },
  {
   "cell_type": "code",
   "execution_count": 0,
   "metadata": {
    "colab": {},
    "colab_type": "code",
    "id": "k6jnnyoArgIT"
   },
   "outputs": [],
   "source": [
    "#finetuning - training by unfreezing only few top layers of conv base\n",
    "conv_base.trainable = True                                #unfreezing the whole convnet\n",
    "\n",
    "set_trainable = False                                    #initialising a boolean variable\n",
    "\n",
    "for layer in conv_base.layers:                           #iterating over layers in conv net\n",
    "    if layer.name == 'block5_conv1':                     #if layer name is block5(the block just above FCN) then making those layers trainable\n",
    "        set_trainable = True\n",
    "    if set_trainable:\n",
    "        layer.trainable = True\n",
    "    else:\n",
    "        layer.trainable = False     \n",
    "        \n",
    "        "
   ]
  },
  {
   "cell_type": "code",
   "execution_count": 15,
   "metadata": {
    "colab": {
     "base_uri": "https://localhost:8080/",
     "height": 1000
    },
    "colab_type": "code",
    "executionInfo": {
     "elapsed": 2264471,
     "status": "ok",
     "timestamp": 1584909644768,
     "user": {
      "displayName": "anish p. kumar",
      "photoUrl": "https://lh3.googleusercontent.com/a-/AOh14Gjoeq1-iDuQCNzD-79k95WREd1AEiyYgE6ZTugl=s64",
      "userId": "10996228043626486783"
     },
     "user_tz": -60
    },
    "id": "A2ugOTZlrgId",
    "outputId": "9e34fd80-0f39-44d6-b0d1-01156785ca61"
   },
   "outputs": [
    {
     "name": "stdout",
     "output_type": "stream",
     "text": [
      "Epoch 1/100\n",
      "100/100 [==============================] - 25s 252ms/step - loss: 0.2850 - acc: 0.8785 - val_loss: 0.2255 - val_acc: 0.9130\n",
      "Epoch 2/100\n",
      "100/100 [==============================] - 23s 226ms/step - loss: 0.2582 - acc: 0.8890 - val_loss: 0.2091 - val_acc: 0.9130\n",
      "Epoch 3/100\n",
      "100/100 [==============================] - 23s 227ms/step - loss: 0.2356 - acc: 0.8980 - val_loss: 0.2037 - val_acc: 0.9230\n",
      "Epoch 4/100\n",
      "100/100 [==============================] - 23s 228ms/step - loss: 0.2255 - acc: 0.9075 - val_loss: 0.2232 - val_acc: 0.9070\n",
      "Epoch 5/100\n",
      "100/100 [==============================] - 23s 227ms/step - loss: 0.2121 - acc: 0.9090 - val_loss: 0.1978 - val_acc: 0.9240\n",
      "Epoch 6/100\n",
      "100/100 [==============================] - 23s 229ms/step - loss: 0.1866 - acc: 0.9270 - val_loss: 0.1987 - val_acc: 0.9260\n",
      "Epoch 7/100\n",
      "100/100 [==============================] - 22s 225ms/step - loss: 0.1836 - acc: 0.9280 - val_loss: 0.2047 - val_acc: 0.9240\n",
      "Epoch 8/100\n",
      "100/100 [==============================] - 23s 229ms/step - loss: 0.1772 - acc: 0.9260 - val_loss: 0.1966 - val_acc: 0.9200\n",
      "Epoch 9/100\n",
      "100/100 [==============================] - 22s 225ms/step - loss: 0.1643 - acc: 0.9315 - val_loss: 0.2182 - val_acc: 0.9160\n",
      "Epoch 10/100\n",
      "100/100 [==============================] - 22s 225ms/step - loss: 0.1626 - acc: 0.9400 - val_loss: 0.1894 - val_acc: 0.9270\n",
      "Epoch 11/100\n",
      "100/100 [==============================] - 23s 226ms/step - loss: 0.1473 - acc: 0.9420 - val_loss: 0.2551 - val_acc: 0.9120\n",
      "Epoch 12/100\n",
      "100/100 [==============================] - 23s 227ms/step - loss: 0.1535 - acc: 0.9360 - val_loss: 0.1867 - val_acc: 0.9240\n",
      "Epoch 13/100\n",
      "100/100 [==============================] - 22s 225ms/step - loss: 0.1285 - acc: 0.9470 - val_loss: 0.2387 - val_acc: 0.9150\n",
      "Epoch 14/100\n",
      "100/100 [==============================] - 23s 225ms/step - loss: 0.1288 - acc: 0.9485 - val_loss: 0.1832 - val_acc: 0.9370\n",
      "Epoch 15/100\n",
      "100/100 [==============================] - 23s 225ms/step - loss: 0.1182 - acc: 0.9540 - val_loss: 0.1967 - val_acc: 0.9290\n",
      "Epoch 16/100\n",
      "100/100 [==============================] - 23s 226ms/step - loss: 0.1139 - acc: 0.9530 - val_loss: 0.1908 - val_acc: 0.9330\n",
      "Epoch 17/100\n",
      "100/100 [==============================] - 23s 226ms/step - loss: 0.1061 - acc: 0.9590 - val_loss: 0.2064 - val_acc: 0.9260\n",
      "Epoch 18/100\n",
      "100/100 [==============================] - 23s 227ms/step - loss: 0.1146 - acc: 0.9520 - val_loss: 0.1860 - val_acc: 0.9360\n",
      "Epoch 19/100\n",
      "100/100 [==============================] - 23s 229ms/step - loss: 0.0920 - acc: 0.9655 - val_loss: 0.2026 - val_acc: 0.9290\n",
      "Epoch 20/100\n",
      "100/100 [==============================] - 23s 226ms/step - loss: 0.0875 - acc: 0.9630 - val_loss: 0.2408 - val_acc: 0.9320\n",
      "Epoch 21/100\n",
      "100/100 [==============================] - 23s 226ms/step - loss: 0.0945 - acc: 0.9605 - val_loss: 0.2176 - val_acc: 0.9250\n",
      "Epoch 22/100\n",
      "100/100 [==============================] - 23s 225ms/step - loss: 0.0933 - acc: 0.9665 - val_loss: 0.2193 - val_acc: 0.9320\n",
      "Epoch 23/100\n",
      "100/100 [==============================] - 23s 228ms/step - loss: 0.0795 - acc: 0.9685 - val_loss: 0.2041 - val_acc: 0.9380\n",
      "Epoch 24/100\n",
      "100/100 [==============================] - 22s 225ms/step - loss: 0.0773 - acc: 0.9700 - val_loss: 0.1935 - val_acc: 0.9380\n",
      "Epoch 25/100\n",
      "100/100 [==============================] - 23s 226ms/step - loss: 0.0817 - acc: 0.9720 - val_loss: 0.2368 - val_acc: 0.9310\n",
      "Epoch 26/100\n",
      "100/100 [==============================] - 23s 225ms/step - loss: 0.0837 - acc: 0.9680 - val_loss: 0.1997 - val_acc: 0.9310\n",
      "Epoch 27/100\n",
      "100/100 [==============================] - 22s 224ms/step - loss: 0.0758 - acc: 0.9735 - val_loss: 0.2131 - val_acc: 0.9350\n",
      "Epoch 28/100\n",
      "100/100 [==============================] - 23s 225ms/step - loss: 0.0748 - acc: 0.9730 - val_loss: 0.2715 - val_acc: 0.9230\n",
      "Epoch 29/100\n",
      "100/100 [==============================] - 22s 224ms/step - loss: 0.0705 - acc: 0.9735 - val_loss: 0.1891 - val_acc: 0.9350\n",
      "Epoch 30/100\n",
      "100/100 [==============================] - 23s 226ms/step - loss: 0.0682 - acc: 0.9755 - val_loss: 0.1987 - val_acc: 0.9330\n",
      "Epoch 31/100\n",
      "100/100 [==============================] - 23s 226ms/step - loss: 0.0557 - acc: 0.9810 - val_loss: 0.2199 - val_acc: 0.9260\n",
      "Epoch 32/100\n",
      "100/100 [==============================] - 22s 224ms/step - loss: 0.0765 - acc: 0.9715 - val_loss: 0.2233 - val_acc: 0.9320\n",
      "Epoch 33/100\n",
      "100/100 [==============================] - 23s 226ms/step - loss: 0.0637 - acc: 0.9760 - val_loss: 0.1779 - val_acc: 0.9430\n",
      "Epoch 34/100\n",
      "100/100 [==============================] - 23s 226ms/step - loss: 0.0635 - acc: 0.9785 - val_loss: 0.2282 - val_acc: 0.9270\n",
      "Epoch 35/100\n",
      "100/100 [==============================] - 23s 226ms/step - loss: 0.0594 - acc: 0.9780 - val_loss: 0.1866 - val_acc: 0.9330\n",
      "Epoch 36/100\n",
      "100/100 [==============================] - 22s 223ms/step - loss: 0.0599 - acc: 0.9775 - val_loss: 0.2052 - val_acc: 0.9380\n",
      "Epoch 37/100\n",
      "100/100 [==============================] - 22s 224ms/step - loss: 0.0676 - acc: 0.9765 - val_loss: 0.1793 - val_acc: 0.9420\n",
      "Epoch 38/100\n",
      "100/100 [==============================] - 23s 225ms/step - loss: 0.0478 - acc: 0.9825 - val_loss: 0.2026 - val_acc: 0.9330\n",
      "Epoch 39/100\n",
      "100/100 [==============================] - 22s 224ms/step - loss: 0.0555 - acc: 0.9790 - val_loss: 0.2260 - val_acc: 0.9400\n",
      "Epoch 40/100\n",
      "100/100 [==============================] - 22s 224ms/step - loss: 0.0495 - acc: 0.9825 - val_loss: 0.2189 - val_acc: 0.9360\n",
      "Epoch 41/100\n",
      "100/100 [==============================] - 23s 225ms/step - loss: 0.0523 - acc: 0.9810 - val_loss: 0.2199 - val_acc: 0.9360\n",
      "Epoch 42/100\n",
      "100/100 [==============================] - 23s 225ms/step - loss: 0.0486 - acc: 0.9795 - val_loss: 0.1886 - val_acc: 0.9430\n",
      "Epoch 43/100\n",
      "100/100 [==============================] - 23s 226ms/step - loss: 0.0457 - acc: 0.9815 - val_loss: 0.3262 - val_acc: 0.9160\n",
      "Epoch 44/100\n",
      "100/100 [==============================] - 22s 225ms/step - loss: 0.0550 - acc: 0.9820 - val_loss: 0.2086 - val_acc: 0.9400\n",
      "Epoch 45/100\n",
      "100/100 [==============================] - 23s 226ms/step - loss: 0.0434 - acc: 0.9825 - val_loss: 0.2168 - val_acc: 0.9420\n",
      "Epoch 46/100\n",
      "100/100 [==============================] - 23s 226ms/step - loss: 0.0449 - acc: 0.9825 - val_loss: 0.2630 - val_acc: 0.9270\n",
      "Epoch 47/100\n",
      "100/100 [==============================] - 23s 231ms/step - loss: 0.0403 - acc: 0.9880 - val_loss: 0.2560 - val_acc: 0.9320\n",
      "Epoch 48/100\n",
      "100/100 [==============================] - 22s 225ms/step - loss: 0.0379 - acc: 0.9860 - val_loss: 0.3204 - val_acc: 0.9190\n",
      "Epoch 49/100\n",
      "100/100 [==============================] - 23s 231ms/step - loss: 0.0283 - acc: 0.9885 - val_loss: 0.3287 - val_acc: 0.9180\n",
      "Epoch 50/100\n",
      "100/100 [==============================] - 23s 227ms/step - loss: 0.0486 - acc: 0.9845 - val_loss: 0.2534 - val_acc: 0.9380\n",
      "Epoch 51/100\n",
      "100/100 [==============================] - 23s 225ms/step - loss: 0.0320 - acc: 0.9885 - val_loss: 0.4533 - val_acc: 0.9030\n",
      "Epoch 52/100\n",
      "100/100 [==============================] - 23s 227ms/step - loss: 0.0385 - acc: 0.9845 - val_loss: 0.2396 - val_acc: 0.9370\n",
      "Epoch 53/100\n",
      "100/100 [==============================] - 23s 228ms/step - loss: 0.0340 - acc: 0.9885 - val_loss: 0.2124 - val_acc: 0.9420\n",
      "Epoch 54/100\n",
      "100/100 [==============================] - 22s 223ms/step - loss: 0.0286 - acc: 0.9895 - val_loss: 0.2735 - val_acc: 0.9310\n",
      "Epoch 55/100\n",
      "100/100 [==============================] - 23s 226ms/step - loss: 0.0389 - acc: 0.9875 - val_loss: 0.2657 - val_acc: 0.9360\n",
      "Epoch 56/100\n",
      "100/100 [==============================] - 22s 224ms/step - loss: 0.0300 - acc: 0.9895 - val_loss: 0.2497 - val_acc: 0.9440\n",
      "Epoch 57/100\n",
      "100/100 [==============================] - 23s 229ms/step - loss: 0.0394 - acc: 0.9855 - val_loss: 0.2379 - val_acc: 0.9440\n",
      "Epoch 58/100\n",
      "100/100 [==============================] - 22s 225ms/step - loss: 0.0355 - acc: 0.9885 - val_loss: 0.2792 - val_acc: 0.9390\n",
      "Epoch 59/100\n",
      "100/100 [==============================] - 23s 226ms/step - loss: 0.0420 - acc: 0.9845 - val_loss: 0.2455 - val_acc: 0.9390\n",
      "Epoch 60/100\n",
      "100/100 [==============================] - 22s 223ms/step - loss: 0.0343 - acc: 0.9865 - val_loss: 0.2507 - val_acc: 0.9330\n",
      "Epoch 61/100\n",
      "100/100 [==============================] - 23s 230ms/step - loss: 0.0310 - acc: 0.9885 - val_loss: 0.2704 - val_acc: 0.9310\n",
      "Epoch 62/100\n",
      "100/100 [==============================] - 23s 231ms/step - loss: 0.0328 - acc: 0.9885 - val_loss: 0.2769 - val_acc: 0.9360\n",
      "Epoch 63/100\n",
      "100/100 [==============================] - 23s 227ms/step - loss: 0.0269 - acc: 0.9930 - val_loss: 0.2698 - val_acc: 0.9380\n",
      "Epoch 64/100\n",
      "100/100 [==============================] - 22s 225ms/step - loss: 0.0343 - acc: 0.9870 - val_loss: 0.2837 - val_acc: 0.9350\n",
      "Epoch 65/100\n",
      "100/100 [==============================] - 23s 228ms/step - loss: 0.0321 - acc: 0.9885 - val_loss: 0.2233 - val_acc: 0.9390\n",
      "Epoch 66/100\n",
      "100/100 [==============================] - 22s 225ms/step - loss: 0.0340 - acc: 0.9895 - val_loss: 0.2366 - val_acc: 0.9440\n",
      "Epoch 67/100\n",
      "100/100 [==============================] - 23s 227ms/step - loss: 0.0266 - acc: 0.9915 - val_loss: 0.2395 - val_acc: 0.9410\n",
      "Epoch 68/100\n",
      "100/100 [==============================] - 23s 226ms/step - loss: 0.0339 - acc: 0.9880 - val_loss: 0.2381 - val_acc: 0.9390\n",
      "Epoch 69/100\n",
      "100/100 [==============================] - 23s 226ms/step - loss: 0.0286 - acc: 0.9905 - val_loss: 0.2434 - val_acc: 0.9370\n",
      "Epoch 70/100\n",
      "100/100 [==============================] - 22s 225ms/step - loss: 0.0237 - acc: 0.9915 - val_loss: 0.2884 - val_acc: 0.9330\n",
      "Epoch 71/100\n",
      "100/100 [==============================] - 23s 226ms/step - loss: 0.0286 - acc: 0.9880 - val_loss: 0.2329 - val_acc: 0.9410\n",
      "Epoch 72/100\n",
      "100/100 [==============================] - 22s 223ms/step - loss: 0.0171 - acc: 0.9950 - val_loss: 0.3459 - val_acc: 0.9300\n",
      "Epoch 73/100\n",
      "100/100 [==============================] - 23s 227ms/step - loss: 0.0296 - acc: 0.9885 - val_loss: 0.2355 - val_acc: 0.9420\n",
      "Epoch 74/100\n",
      "100/100 [==============================] - 23s 228ms/step - loss: 0.0305 - acc: 0.9900 - val_loss: 0.2325 - val_acc: 0.9410\n",
      "Epoch 75/100\n",
      "100/100 [==============================] - 22s 224ms/step - loss: 0.0217 - acc: 0.9920 - val_loss: 0.4367 - val_acc: 0.9210\n",
      "Epoch 76/100\n",
      "100/100 [==============================] - 23s 225ms/step - loss: 0.0240 - acc: 0.9930 - val_loss: 0.2303 - val_acc: 0.9430\n",
      "Epoch 77/100\n",
      "100/100 [==============================] - 23s 226ms/step - loss: 0.0173 - acc: 0.9930 - val_loss: 0.2573 - val_acc: 0.9420\n",
      "Epoch 78/100\n",
      "100/100 [==============================] - 23s 226ms/step - loss: 0.0247 - acc: 0.9910 - val_loss: 0.3878 - val_acc: 0.9260\n",
      "Epoch 79/100\n",
      "100/100 [==============================] - 22s 224ms/step - loss: 0.0166 - acc: 0.9945 - val_loss: 0.2767 - val_acc: 0.9350\n",
      "Epoch 80/100\n",
      "100/100 [==============================] - 22s 224ms/step - loss: 0.0254 - acc: 0.9910 - val_loss: 0.2394 - val_acc: 0.9410\n",
      "Epoch 81/100\n",
      "100/100 [==============================] - 23s 225ms/step - loss: 0.0157 - acc: 0.9940 - val_loss: 0.2417 - val_acc: 0.9400\n",
      "Epoch 82/100\n",
      "100/100 [==============================] - 22s 224ms/step - loss: 0.0232 - acc: 0.9930 - val_loss: 0.2930 - val_acc: 0.9370\n",
      "Epoch 83/100\n",
      "100/100 [==============================] - 22s 225ms/step - loss: 0.0272 - acc: 0.9915 - val_loss: 0.2281 - val_acc: 0.9430\n",
      "Epoch 84/100\n",
      "100/100 [==============================] - 23s 226ms/step - loss: 0.0219 - acc: 0.9920 - val_loss: 0.2590 - val_acc: 0.9370\n",
      "Epoch 85/100\n",
      "100/100 [==============================] - 23s 226ms/step - loss: 0.0221 - acc: 0.9935 - val_loss: 0.2792 - val_acc: 0.9340\n",
      "Epoch 86/100\n",
      "100/100 [==============================] - 23s 225ms/step - loss: 0.0221 - acc: 0.9920 - val_loss: 0.2528 - val_acc: 0.9460\n",
      "Epoch 87/100\n",
      "100/100 [==============================] - 23s 229ms/step - loss: 0.0274 - acc: 0.9895 - val_loss: 0.2970 - val_acc: 0.9420\n",
      "Epoch 88/100\n",
      "100/100 [==============================] - 23s 230ms/step - loss: 0.0153 - acc: 0.9940 - val_loss: 0.3803 - val_acc: 0.9370\n",
      "Epoch 89/100\n",
      "100/100 [==============================] - 23s 228ms/step - loss: 0.0142 - acc: 0.9965 - val_loss: 0.3061 - val_acc: 0.9290\n",
      "Epoch 90/100\n",
      "100/100 [==============================] - 23s 226ms/step - loss: 0.0253 - acc: 0.9920 - val_loss: 0.2998 - val_acc: 0.9330\n",
      "Epoch 91/100\n",
      "100/100 [==============================] - 23s 227ms/step - loss: 0.0224 - acc: 0.9925 - val_loss: 0.3233 - val_acc: 0.9330\n",
      "Epoch 92/100\n",
      "100/100 [==============================] - 23s 227ms/step - loss: 0.0243 - acc: 0.9920 - val_loss: 0.3145 - val_acc: 0.9350\n",
      "Epoch 93/100\n",
      "100/100 [==============================] - 23s 227ms/step - loss: 0.0184 - acc: 0.9920 - val_loss: 0.3073 - val_acc: 0.9370\n",
      "Epoch 94/100\n",
      "100/100 [==============================] - 23s 227ms/step - loss: 0.0173 - acc: 0.9945 - val_loss: 0.2766 - val_acc: 0.9470\n",
      "Epoch 95/100\n",
      "100/100 [==============================] - 23s 226ms/step - loss: 0.0173 - acc: 0.9935 - val_loss: 0.3954 - val_acc: 0.9320\n",
      "Epoch 96/100\n",
      "100/100 [==============================] - 23s 225ms/step - loss: 0.0233 - acc: 0.9925 - val_loss: 0.3294 - val_acc: 0.9300\n",
      "Epoch 97/100\n",
      "100/100 [==============================] - 23s 226ms/step - loss: 0.0163 - acc: 0.9925 - val_loss: 0.2882 - val_acc: 0.9370\n",
      "Epoch 98/100\n",
      "100/100 [==============================] - 22s 225ms/step - loss: 0.0184 - acc: 0.9925 - val_loss: 0.2997 - val_acc: 0.9390\n",
      "Epoch 99/100\n",
      "100/100 [==============================] - 23s 226ms/step - loss: 0.0179 - acc: 0.9935 - val_loss: 0.2579 - val_acc: 0.9360\n",
      "Epoch 100/100\n",
      "100/100 [==============================] - 23s 227ms/step - loss: 0.0226 - acc: 0.9930 - val_loss: 0.2782 - val_acc: 0.9400\n"
     ]
    }
   ],
   "source": [
    "#compiling the model with a very low learning rate : so that the trainable weights\n",
    "#of the convnet is not modified too much, which might harm the representations it is having\n",
    "model.compile(loss='binary_crossentropy',\n",
    "              optimizer=optimizers.RMSprop(lr=1e-5),     #learning rate is set low        \n",
    "              metrics=['acc'])\n",
    "\n",
    "#fitting the model with generated augmented i/p images and its labels using the \n",
    "#model with top few conv layer set to trainable\n",
    "history = model.fit_generator(\n",
    "          train_generator,                              #loading train data from this directory\n",
    "          steps_per_epoch=100,                          #breaking the data generation, with this one epoch is completed and the trainable weights are updated\n",
    "          epochs=100,\n",
    "          validation_data=validation_generator,         #loading the unaugmented validation data\n",
    "          validation_steps=50)\n",
    "\n",
    "\n"
   ]
  },
  {
   "cell_type": "code",
   "execution_count": 16,
   "metadata": {
    "colab": {
     "base_uri": "https://localhost:8080/",
     "height": 545
    },
    "colab_type": "code",
    "executionInfo": {
     "elapsed": 1230,
     "status": "ok",
     "timestamp": 1584909755794,
     "user": {
      "displayName": "anish p. kumar",
      "photoUrl": "https://lh3.googleusercontent.com/a-/AOh14Gjoeq1-iDuQCNzD-79k95WREd1AEiyYgE6ZTugl=s64",
      "userId": "10996228043626486783"
     },
     "user_tz": -60
    },
    "id": "VYmfb7HorgIl",
    "outputId": "f50ecad1-83a7-4310-8740-217d3878e34e"
   },
   "outputs": [
    {
     "data": {
      "image/png": "[encoded data removed]",
      "text/plain": [
       "<Figure size 432x288 with 1 Axes>"
      ]
     },
     "metadata": {
      "tags": []
     },
     "output_type": "display_data"
    },
    {
     "data": {
      "image/png": "[encoded data removed]",
      "text/plain": [
       "<Figure size 432x288 with 1 Axes>"
      ]
     },
     "metadata": {
      "tags": []
     },
     "output_type": "display_data"
    }
   ],
   "source": [
    "#plotting the results after unfreezing top 3 layers of pretrained convnet - training (accuracy and losses) vs validation (accuracy and losses)\n",
    "import matplotlib.pyplot as plt\n",
    "\n",
    "acc = history.history['acc']\n",
    "val_acc = history.history['val_acc']\n",
    "loss = history.history['loss']\n",
    "val_loss = history.history['val_loss']\n",
    "\n",
    "epochs = range(1, len(acc) + 1)\n",
    "\n",
    "plt.plot(epochs, acc, 'bo', label='Training acc')\n",
    "plt.plot(epochs, val_acc, 'b', label='Validation acc')\n",
    "plt.title('Training and validation accuracy')\n",
    "plt.legend()\n",
    "plt.figure()\n",
    "\n",
    "plt.plot(epochs, loss, 'bo', label='Training loss')\n",
    "plt.plot(epochs, val_loss, 'b', label='Validation loss')\n",
    "plt.title('Training and validation loss')\n",
    "plt.legend()\n",
    "\n",
    "plt.show()\n",
    "\n",
    "#Accuracy increased to above 90 but Validation accuracy doesnot improve much after 15 epochs \n",
    "#the training need to be stopped aroung 15 epochs"
   ]
  },
  {
   "cell_type": "code",
   "execution_count": 17,
   "metadata": {
    "colab": {
     "base_uri": "https://localhost:8080/",
     "height": 545
    },
    "colab_type": "code",
    "executionInfo": {
     "elapsed": 1134,
     "status": "ok",
     "timestamp": 1584909780467,
     "user": {
      "displayName": "anish p. kumar",
      "photoUrl": "https://lh3.googleusercontent.com/a-/AOh14Gjoeq1-iDuQCNzD-79k95WREd1AEiyYgE6ZTugl=s64",
      "userId": "10996228043626486783"
     },
     "user_tz": -60
    },
    "id": "RmXHQwjgrgIq",
    "outputId": "51f27e0b-2eef-41e0-aafa-5a6adb7f988e"
   },
   "outputs": [
    {
     "data": {
      "image/png": "[encoded data removed]",
      "text/plain": [
       "<Figure size 432x288 with 1 Axes>"
      ]
     },
     "metadata": {
      "tags": []
     },
     "output_type": "display_data"
    },
    {
     "data": {
      "image/png": "[encoded data removed]",
      "text/plain": [
       "<Figure size 432x288 with 1 Axes>"
      ]
     },
     "metadata": {
      "tags": []
     },
     "output_type": "display_data"
    }
   ],
   "source": [
    "#smoothening the curves\n",
    "def smooth_curve(points, factor=0.8):\n",
    "    smoothed_points = []\n",
    "    for point in points:\n",
    "        if smoothed_points:\n",
    "            previous = smoothed_points[-1]\n",
    "            smoothed_points.append(previous * factor + point * (1 - factor))\n",
    "        else:\n",
    "            smoothed_points.append(point)\n",
    "    return smoothed_points\n",
    "\n",
    "plt.plot(epochs,smooth_curve(acc), 'bo', label='Smoothed training acc')\n",
    "plt.plot(epochs,smooth_curve(val_acc), 'b', label='Smoothed validation acc')\n",
    "plt.title('Training and validation accuracy')\n",
    "plt.legend()\n",
    "plt.figure()\n",
    "\n",
    "plt.plot(epochs,smooth_curve(loss), 'bo', label='Smoothed training loss')\n",
    "plt.plot(epochs,smooth_curve(val_loss), 'b', label='Smoothed validation loss')\n",
    "plt.title('Training and validation loss')\n",
    "plt.legend()\n",
    "plt.show()\n"
   ]
  },
  {
   "cell_type": "code",
   "execution_count": 18,
   "metadata": {
    "colab": {
     "base_uri": "https://localhost:8080/",
     "height": 52
    },
    "colab_type": "code",
    "executionInfo": {
     "elapsed": 206344,
     "status": "ok",
     "timestamp": 1584909998920,
     "user": {
      "displayName": "anish p. kumar",
      "photoUrl": "https://lh3.googleusercontent.com/a-/AOh14Gjoeq1-iDuQCNzD-79k95WREd1AEiyYgE6ZTugl=s64",
      "userId": "10996228043626486783"
     },
     "user_tz": -60
    },
    "id": "KknWQrAjrgIy",
    "outputId": "57500ac3-7f0c-4420-d23d-d6df3829925d"
   },
   "outputs": [
    {
     "name": "stdout",
     "output_type": "stream",
     "text": [
      "Found 1000 images belonging to 2 classes.\n",
      "('test acc:', 0.9419999921321869)\n"
     ]
    }
   ],
   "source": [
    "#evaluating the model for the test data\n",
    "#generating test data\n",
    "test_generator = test_datagen.flow_from_directory(\n",
    "                 test_dir,\n",
    "                 target_size=(150, 150),\n",
    "                 batch_size=20,\n",
    "                 class_mode='binary')\n",
    "#evaluating the result of the test data on the trained model\n",
    "test_loss, test_acc = model.evaluate_generator(test_generator, steps=50)\n",
    "\n",
    "print('test acc:', test_acc)"
   ]
  }
 ],
 "metadata": {
  "accelerator": "GPU",
  "colab": {
   "collapsed_sections": [],
   "name": "CatsVsDogs-PretrainedCNN-withAugmentation.ipynb",
   "provenance": [],
   "toc_visible": true
  },
  "kernelspec": {
   "display_name": "Python 2",
   "language": "python",
   "name": "python2"
  },
  "language_info": {
   "codemirror_mode": {
    "name": "ipython",
    "version": 2
   },
   "file_extension": ".py",
   "mimetype": "text/x-python",
   "name": "python",
   "nbconvert_exporter": "python",
   "pygments_lexer": "ipython2",
   "version": "2.7.16"
  }
 },
 "nbformat": 4,
 "nbformat_minor": 1
}
