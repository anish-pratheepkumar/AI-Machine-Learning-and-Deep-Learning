{
 "cells": [
  {
   "cell_type": "code",
   "execution_count": 6,
   "metadata": {
    "scrolled": true
   },
   "outputs": [
    {
     "name": "stdout",
     "output_type": "stream",
     "text": [
      "Epoch 1/5\n",
      "60000/60000 [==============================] - 5s 80us/step - loss: 0.2530 - accuracy: 0.9269\n",
      "Epoch 2/5\n",
      "60000/60000 [==============================] - 5s 90us/step - loss: 0.1026 - accuracy: 0.9704\n",
      "Epoch 3/5\n",
      "60000/60000 [==============================] - 4s 73us/step - loss: 0.0677 - accuracy: 0.9795\n",
      "Epoch 4/5\n",
      "60000/60000 [==============================] - 3s 51us/step - loss: 0.0493 - accuracy: 0.9854\n",
      "Epoch 5/5\n",
      "60000/60000 [==============================] - 4s 60us/step - loss: 0.0365 - accuracy: 0.9894\n"
     ]
    },
    {
     "data": {
      "text/plain": [
       "<keras.callbacks.callbacks.History at 0x7f9af42042d0>"
      ]
     },
     "execution_count": 6,
     "metadata": {},
     "output_type": "execute_result"
    }
   ],
   "source": [
    "from keras.datasets import mnist\n",
    "\n",
    "#defining training data i/p and o/ptarget tensors \n",
    "(train_images, train_labels), (test_images, test_labels) = mnist.load_data()\n",
    "\n",
    "#preparing the image(i/p) data: here we reshape and change data type of i/p image data \n",
    "#to meet the i/p requirement of 1st layer\n",
    "train_images = train_images.reshape((60000,28*28))\n",
    "train_images = train_images.astype('float32')/255 #divide by 255 to scale between 0&1\n",
    "test_images = test_images.reshape((10000,28*28))\n",
    "test_images = test_images.astype('float32')/255\n",
    "\n",
    "#preparing the label(target) data - categorically encoding the labels\n",
    "from keras.utils import to_categorical\n",
    "\n",
    "train_labels = to_categorical(train_labels)\n",
    "test_labels = to_categorical(test_labels)\n",
    "\n",
    "#define network of layers(model)\n",
    "from keras import models\n",
    "from keras import layers\n",
    "\n",
    "model = models.Sequential() #selecting sequential class for network layer design\n",
    "model.add(layers.Dense(512, activation='relu', input_shape=(28*28,))) #i/p784nos/neurons & o/p512 neurons\n",
    "model.add(layers.Dense(10, activation='softmax')) #i/p-512 & o/p-10\n",
    "\n",
    "#adding tensorboard callback\n",
    "import keras\n",
    "TensorBoard = [\n",
    "    keras.callbacks.TensorBoard(\n",
    "        log_dir='mnist_log_dir')\n",
    "]\n",
    "\n",
    "#creating a directory to log TensorBoard files\n",
    "import os\n",
    "base_dir = '/home/anish/Documents/Jupyter Notebook/SA-DLwithPy/TensorBoard/mnist_log_dir'\n",
    "#os.mkdir(base_dir)\n",
    " \n",
    "#configuring learning process (the compilation step)\n",
    "model.compile(optimizer='rmsprop',\n",
    "              loss='categorical_crossentropy',\n",
    "              metrics=['accuracy'])\n",
    "             \n",
    "\n",
    "#Training the network by calling fit method\n",
    "\n",
    "model.fit(train_images, train_labels, epochs=5, batch_size=128, callbacks=TensorBoard) "
   ]
  },
  {
   "cell_type": "code",
   "execution_count": 2,
   "metadata": {},
   "outputs": [
    {
     "name": "stdout",
     "output_type": "stream",
     "text": [
      "10000/10000 [==============================] - 0s 46us/step\n",
      "('test_acc:', 0.9782000184059143)\n"
     ]
    }
   ],
   "source": [
    "#checking model performance on test data set\n",
    "test_loss, test_acc = model.evaluate(test_images, test_labels)\n",
    "print('test_acc:', test_acc)"
   ]
  },
  {
   "cell_type": "code",
   "execution_count": 7,
   "metadata": {},
   "outputs": [
    {
     "data": {
      "image/png": "[encoded data removed]",
      "text/plain": [
       "<IPython.core.display.Image object>"
      ]
     },
     "execution_count": 7,
     "metadata": {},
     "output_type": "execute_result"
    }
   ],
   "source": [
    "from keras.utils import plot_model\n",
    "plot_model(model, to_file='mnist_model.png')"
   ]
  },
  {
   "cell_type": "code",
   "execution_count": null,
   "metadata": {},
   "outputs": [],
   "source": []
  }
 ],
 "metadata": {
  "kernelspec": {
   "display_name": "Python 2",
   "language": "python",
   "name": "python2"
  },
  "language_info": {
   "codemirror_mode": {
    "name": "ipython",
    "version": 2
   },
   "file_extension": ".py",
   "mimetype": "text/x-python",
   "name": "python",
   "nbconvert_exporter": "python",
   "pygments_lexer": "ipython2",
   "version": "2.7.16"
  }
 },
 "nbformat": 4,
 "nbformat_minor": 2
}
