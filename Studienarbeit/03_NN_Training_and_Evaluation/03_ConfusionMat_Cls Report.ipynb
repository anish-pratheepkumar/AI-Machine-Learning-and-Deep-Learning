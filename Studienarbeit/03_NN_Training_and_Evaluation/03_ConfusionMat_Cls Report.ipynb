{
 "cells": [
  {
   "cell_type": "code",
   "execution_count": 1,
   "metadata": {},
   "outputs": [
    {
     "name": "stderr",
     "output_type": "stream",
     "text": [
      "Using TensorFlow backend.\n"
     ]
    }
   ],
   "source": [
    "#import essential libraries\n",
    "import numpy as np\n",
    "import pandas as pd\n",
    "import matplotlib.pyplot as plt\n",
    "import seaborn as sns\n",
    "from keras.models import Model, load_model\n",
    "from sklearn.metrics import classification_report, confusion_matrix\n",
    "\n",
    "import h5py\n",
    "import os"
   ]
  },
  {
   "cell_type": "code",
   "execution_count": 2,
   "metadata": {},
   "outputs": [
    {
     "name": "stdout",
     "output_type": "stream",
     "text": [
      "/home/anish/anaconda_py3_copelia/Dataset_Red\n",
      "['test_set.h5', 'train_set.h5', 'val_set.h5']\n"
     ]
    }
   ],
   "source": [
    "#Defining path for data loading\n",
    "PATH = '/home/anish/anaconda_py3_copelia'\n",
    "#PATH = '/home/anish/anaconda_py3_copelia'\n",
    "data_path = PATH + '/Dataset_Red'             #Name of the folder that contains the data\n",
    "data_dir_list = os.listdir(data_path)\n",
    "\n",
    "print(data_path)\n",
    "print(data_dir_list)"
   ]
  },
  {
   "cell_type": "code",
   "execution_count": 3,
   "metadata": {},
   "outputs": [],
   "source": [
    "#function to load dataset\n",
    "def load_dataset():\n",
    "    test_dataset = h5py.File(PATH + '/Dataset_Red/test_set.h5', \"r\")\n",
    "    test_set_x_orig = np.array(test_dataset['test_set_x'][:])    #test set features(images)\n",
    "    test_set_y_orig = np.array(test_dataset['test_set_y'][:])    #test set labels\n",
    "\n",
    "    classes = np.array(test_dataset[\"list_classes\"][:])          #list of classes\n",
    "    \n",
    "    #reshape labels into row vectors(sinle dimension vector)\n",
    "    test_set_y_orig = test_set_y_orig.reshape((1, test_set_y_orig.shape[0]))\n",
    "    \n",
    "    return test_set_x_orig, test_set_y_orig, classes"
   ]
  },
  {
   "cell_type": "code",
   "execution_count": 4,
   "metadata": {},
   "outputs": [],
   "source": [
    "#function for one hot encoding\n",
    "def convert_to_one_hot(Y, C):                                #C = no of labels\n",
    "    Y = np.eye(C)[Y.reshape(-1)].T                           #reshape(-1) will convert it into a single dimension vector\n",
    "    return Y"
   ]
  },
  {
   "cell_type": "code",
   "execution_count": 5,
   "metadata": {},
   "outputs": [
    {
     "name": "stdout",
     "output_type": "stream",
     "text": [
      "X_test shape: (1561, 128, 128, 3)\n",
      "Y_test shape: (1561, 3)\n"
     ]
    }
   ],
   "source": [
    "X_test_orig, Y_test_orig, classes = load_dataset()\n",
    "\n",
    "#normalise image data\n",
    "X_test = X_test_orig/255.\n",
    "#one hot encode the labels\n",
    "Y_test = convert_to_one_hot(Y_test_orig, 3).T\n",
    "\n",
    "print (\"X_test shape: \" + str(X_test.shape))\n",
    "print (\"Y_test shape: \" + str(Y_test.shape))"
   ]
  },
  {
   "cell_type": "code",
   "execution_count": 6,
   "metadata": {},
   "outputs": [
    {
     "name": "stdout",
     "output_type": "stream",
     "text": [
      "Model: \"QuadNet\"\n",
      "_________________________________________________________________\n",
      "Layer (type)                 Output Shape              Param #   \n",
      "=================================================================\n",
      "input (InputLayer)           (None, 128, 128, 3)       0         \n",
      "_________________________________________________________________\n",
      "conv1 (Conv2D)               (None, 32, 32, 32)        11648     \n",
      "_________________________________________________________________\n",
      "relu1 (Activation)           (None, 32, 32, 32)        0         \n",
      "_________________________________________________________________\n",
      "pool1 (MaxPooling2D)         (None, 16, 16, 32)        0         \n",
      "_________________________________________________________________\n",
      "conv2 (Conv2D)               (None, 16, 16, 64)        51264     \n",
      "_________________________________________________________________\n",
      "relu2 (Activation)           (None, 16, 16, 64)        0         \n",
      "_________________________________________________________________\n",
      "pool2 (MaxPooling2D)         (None, 8, 8, 64)          0         \n",
      "_________________________________________________________________\n",
      "conv3 (Conv2D)               (None, 8, 8, 128)         73856     \n",
      "_________________________________________________________________\n",
      "relu3 (Activation)           (None, 8, 8, 128)         0         \n",
      "_________________________________________________________________\n",
      "pool3 (MaxPooling2D)         (None, 4, 4, 128)         0         \n",
      "_________________________________________________________________\n",
      "conv4 (Conv2D)               (None, 4, 4, 256)         295168    \n",
      "_________________________________________________________________\n",
      "relu4 (Activation)           (None, 4, 4, 256)         0         \n",
      "_________________________________________________________________\n",
      "pool4 (MaxPooling2D)         (None, 2, 2, 256)         0         \n",
      "_________________________________________________________________\n",
      "conv5 (Conv2D)               (None, 2, 2, 128)         32896     \n",
      "_________________________________________________________________\n",
      "relu5 (Activation)           (None, 2, 2, 128)         0         \n",
      "_________________________________________________________________\n",
      "pool5 (MaxPooling2D)         (None, 1, 1, 128)         0         \n",
      "_________________________________________________________________\n",
      "conv6 (Conv2D)               (None, 1, 1, 64)          8256      \n",
      "_________________________________________________________________\n",
      "relu6 (Activation)           (None, 1, 1, 64)          0         \n",
      "_________________________________________________________________\n",
      "fc1 (Flatten)                (None, 64)                0         \n",
      "_________________________________________________________________\n",
      "fc2 (Dense)                  (None, 3)                 195       \n",
      "=================================================================\n",
      "Total params: 473,283\n",
      "Trainable params: 473,283\n",
      "Non-trainable params: 0\n",
      "_________________________________________________________________\n"
     ]
    }
   ],
   "source": [
    "#Loading model with weights\n",
    "# load model\n",
    "model = load_model(PATH + '/Model/Quad_Net_Wt.h5')\n",
    "# summarize model\n",
    "model.summary()"
   ]
  },
  {
   "cell_type": "code",
   "execution_count": 7,
   "metadata": {},
   "outputs": [
    {
     "name": "stdout",
     "output_type": "stream",
     "text": [
      "1561/1561 [==============================] - 2s 1ms/step\n",
      "Loss = 0.006175132067712987\n",
      "Test Accuracy = 0.9980781674385071\n"
     ]
    }
   ],
   "source": [
    "preds = model.evaluate(X_test, Y_test)\n",
    "\n",
    "print (\"Loss = \" + str(preds[0]))\n",
    "print (\"Test Accuracy = \" + str(preds[1]))"
   ]
  },
  {
   "cell_type": "code",
   "execution_count": 8,
   "metadata": {},
   "outputs": [],
   "source": [
    "predictions = model.predict(X_test)"
   ]
  },
  {
   "cell_type": "code",
   "execution_count": 9,
   "metadata": {},
   "outputs": [
    {
     "data": {
      "text/plain": [
       "array([[1.0000000e+00, 7.4949487e-14, 3.6519837e-12],\n",
       "       [1.0340642e-15, 1.0000000e+00, 1.6824531e-10],\n",
       "       [2.8810039e-04, 4.3711432e-05, 9.9966824e-01],\n",
       "       ...,\n",
       "       [9.9999881e-01, 4.8632182e-07, 7.7277070e-07],\n",
       "       [1.0866654e-03, 4.6473533e-02, 9.5243984e-01],\n",
       "       [1.0000000e+00, 3.1261108e-11, 4.2876230e-11]], dtype=float32)"
      ]
     },
     "execution_count": 9,
     "metadata": {},
     "output_type": "execute_result"
    }
   ],
   "source": [
    "predictions #this has probability for each class argmax need to be taken for confusion matrix"
   ]
  },
  {
   "cell_type": "code",
   "execution_count": 10,
   "metadata": {},
   "outputs": [
    {
     "data": {
      "text/plain": [
       "array([1., 0., 0.])"
      ]
     },
     "execution_count": 10,
     "metadata": {},
     "output_type": "execute_result"
    }
   ],
   "source": [
    "Y_test[0] #here also it is one hot encoding so we need arg max "
   ]
  },
  {
   "cell_type": "code",
   "execution_count": 12,
   "metadata": {
    "scrolled": false
   },
   "outputs": [
    {
     "name": "stdout",
     "output_type": "stream",
     "text": [
      "              precision    recall  f1-score   support\n",
      "\n",
      "          FL     1.0000    1.0000    1.0000       506\n",
      "          FR     0.9964    0.9982    0.9973       552\n",
      "          FS     0.9980    0.9960    0.9970       503\n",
      "\n",
      "    accuracy                         0.9981      1561\n",
      "   macro avg     0.9981    0.9981    0.9981      1561\n",
      "weighted avg     0.9981    0.9981    0.9981      1561\n",
      "\n"
     ]
    }
   ],
   "source": [
    "#classification report\n",
    "target_names = ['FL', 'FR', 'FS']\n",
    "print(classification_report(Y_test.argmax(axis=1), predictions.argmax(axis=1),\n",
    "                            target_names=target_names, digits=4))"
   ]
  },
  {
   "cell_type": "code",
   "execution_count": 13,
   "metadata": {
    "scrolled": true
   },
   "outputs": [
    {
     "data": {
      "text/plain": [
       "array([[506,   0,   0],\n",
       "       [  0, 551,   1],\n",
       "       [  0,   2, 501]])"
      ]
     },
     "execution_count": 13,
     "metadata": {},
     "output_type": "execute_result"
    }
   ],
   "source": [
    "#confusion matrix\n",
    "confusion_matrix(Y_test.argmax(axis=1), predictions.argmax(axis=1))"
   ]
  },
  {
   "cell_type": "code",
   "execution_count": 14,
   "metadata": {},
   "outputs": [
    {
     "data": {
      "text/plain": [
       "array([[1.        , 0.        , 0.        ],\n",
       "       [0.        , 0.99818841, 0.00181159],\n",
       "       [0.        , 0.00397614, 0.99602386]])"
      ]
     },
     "execution_count": 14,
     "metadata": {},
     "output_type": "execute_result"
    }
   ],
   "source": [
    "#confusion matrix normalised\n",
    "confusion_matrix(Y_test.argmax(axis=1), predictions.argmax(axis=1), normalize='true')"
   ]
  },
  {
   "cell_type": "code",
   "execution_count": 16,
   "metadata": {},
   "outputs": [],
   "source": [
    "conf_mat =confusion_matrix(Y_test.argmax(axis=1), predictions.argmax(axis=1), normalize='true')"
   ]
  },
  {
   "cell_type": "code",
   "execution_count": 17,
   "metadata": {},
   "outputs": [
    {
     "data": {
      "text/html": [
       "<div>\n",
       "<style scoped>\n",
       "    .dataframe tbody tr th:only-of-type {\n",
       "        vertical-align: middle;\n",
       "    }\n",
       "\n",
       "    .dataframe tbody tr th {\n",
       "        vertical-align: top;\n",
       "    }\n",
       "\n",
       "    .dataframe thead th {\n",
       "        text-align: right;\n",
       "    }\n",
       "</style>\n",
       "<table border=\"1\" class=\"dataframe\">\n",
       "  <thead>\n",
       "    <tr style=\"text-align: right;\">\n",
       "      <th></th>\n",
       "      <th>FL</th>\n",
       "      <th>FR</th>\n",
       "      <th>FS</th>\n",
       "    </tr>\n",
       "  </thead>\n",
       "  <tbody>\n",
       "    <tr>\n",
       "      <th>FL</th>\n",
       "      <td>1.0</td>\n",
       "      <td>0.000000</td>\n",
       "      <td>0.000000</td>\n",
       "    </tr>\n",
       "    <tr>\n",
       "      <th>FR</th>\n",
       "      <td>0.0</td>\n",
       "      <td>0.998188</td>\n",
       "      <td>0.001812</td>\n",
       "    </tr>\n",
       "    <tr>\n",
       "      <th>FS</th>\n",
       "      <td>0.0</td>\n",
       "      <td>0.003976</td>\n",
       "      <td>0.996024</td>\n",
       "    </tr>\n",
       "  </tbody>\n",
       "</table>\n",
       "</div>"
      ],
      "text/plain": [
       "     FL        FR        FS\n",
       "FL  1.0  0.000000  0.000000\n",
       "FR  0.0  0.998188  0.001812\n",
       "FS  0.0  0.003976  0.996024"
      ]
     },
     "execution_count": 17,
     "metadata": {},
     "output_type": "execute_result"
    }
   ],
   "source": [
    "#convert confusion matrix to a pandas dataframe\n",
    "df1 = pd.DataFrame(conf_mat,\n",
    "                   columns=['FL', 'FR', 'FS'],\n",
    "                   index=['FL', 'FR', 'FS'])\n",
    "df1.head()"
   ]
  },
  {
   "cell_type": "code",
   "execution_count": 18,
   "metadata": {},
   "outputs": [],
   "source": [
    "df1['FR'] = df1['FR'].round(decimals=4)"
   ]
  },
  {
   "cell_type": "code",
   "execution_count": 19,
   "metadata": {},
   "outputs": [],
   "source": [
    "df1['FS'] = df1['FS'].round(decimals=4)"
   ]
  },
  {
   "cell_type": "code",
   "execution_count": 21,
   "metadata": {},
   "outputs": [
    {
     "data": {
      "text/html": [
       "<div>\n",
       "<style scoped>\n",
       "    .dataframe tbody tr th:only-of-type {\n",
       "        vertical-align: middle;\n",
       "    }\n",
       "\n",
       "    .dataframe tbody tr th {\n",
       "        vertical-align: top;\n",
       "    }\n",
       "\n",
       "    .dataframe thead th {\n",
       "        text-align: right;\n",
       "    }\n",
       "</style>\n",
       "<table border=\"1\" class=\"dataframe\">\n",
       "  <thead>\n",
       "    <tr style=\"text-align: right;\">\n",
       "      <th></th>\n",
       "      <th>FL</th>\n",
       "      <th>FR</th>\n",
       "      <th>FS</th>\n",
       "    </tr>\n",
       "  </thead>\n",
       "  <tbody>\n",
       "    <tr>\n",
       "      <th>FL</th>\n",
       "      <td>1.0</td>\n",
       "      <td>0.0000</td>\n",
       "      <td>0.0000</td>\n",
       "    </tr>\n",
       "    <tr>\n",
       "      <th>FR</th>\n",
       "      <td>0.0</td>\n",
       "      <td>0.9982</td>\n",
       "      <td>0.0018</td>\n",
       "    </tr>\n",
       "    <tr>\n",
       "      <th>FS</th>\n",
       "      <td>0.0</td>\n",
       "      <td>0.0040</td>\n",
       "      <td>0.9960</td>\n",
       "    </tr>\n",
       "  </tbody>\n",
       "</table>\n",
       "</div>"
      ],
      "text/plain": [
       "     FL      FR      FS\n",
       "FL  1.0  0.0000  0.0000\n",
       "FR  0.0  0.9982  0.0018\n",
       "FS  0.0  0.0040  0.9960"
      ]
     },
     "execution_count": 21,
     "metadata": {},
     "output_type": "execute_result"
    }
   ],
   "source": [
    "df1.head()"
   ]
  },
  {
   "cell_type": "code",
   "execution_count": 22,
   "metadata": {},
   "outputs": [
    {
     "data": {
      "text/plain": [
       "Text(33.0, 0.5, 'True Label')"
      ]
     },
     "execution_count": 22,
     "metadata": {},
     "output_type": "execute_result"
    },
    {
     "data": {
      "image/png": "[encoded data removed]",
      "text/plain": [
       "<Figure size 432x288 with 2 Axes>"
      ]
     },
     "metadata": {
      "needs_background": "light"
     },
     "output_type": "display_data"
    }
   ],
   "source": [
    "#plot the confusion matrix\n",
    "fig = plt.figure()\n",
    "sns.heatmap(df1, annot=True, fmt='g', cmap='Set2', alpha = 0.7)\n",
    "plt.xlabel('Predicted Label')\n",
    "plt.ylabel('True Label')"
   ]
  },
  {
   "cell_type": "code",
   "execution_count": 23,
   "metadata": {},
   "outputs": [
    {
     "name": "stdout",
     "output_type": "stream",
     "text": [
      "{'ps': 'Postscript', 'eps': 'Encapsulated Postscript', 'pdf': 'Portable Document Format', 'pgf': 'PGF code for LaTeX', 'png': 'Portable Network Graphics', 'raw': 'Raw RGBA bitmap', 'rgba': 'Raw RGBA bitmap', 'svg': 'Scalable Vector Graphics', 'svgz': 'Scalable Vector Graphics', 'jpg': 'Joint Photographic Experts Group', 'jpeg': 'Joint Photographic Experts Group', 'tif': 'Tagged Image File Format', 'tiff': 'Tagged Image File Format'}\n"
     ]
    }
   ],
   "source": [
    "print (fig.canvas.get_supported_filetypes())"
   ]
  },
  {
   "cell_type": "code",
   "execution_count": 24,
   "metadata": {},
   "outputs": [],
   "source": [
    "#save confusion matrix in 'svg' file format\n",
    "fig.savefig('cmatrix.svg')"
   ]
  },
  {
   "cell_type": "code",
   "execution_count": null,
   "metadata": {},
   "outputs": [],
   "source": []
  }
 ],
 "metadata": {
  "kernelspec": {
   "display_name": "TF2.0",
   "language": "python",
   "name": "tf2.0"
  },
  "language_info": {
   "codemirror_mode": {
    "name": "ipython",
    "version": 3
   },
   "file_extension": ".py",
   "mimetype": "text/x-python",
   "name": "python",
   "nbconvert_exporter": "python",
   "pygments_lexer": "ipython3",
   "version": "3.7.5"
  }
 },
 "nbformat": 4,
 "nbformat_minor": 4
}
