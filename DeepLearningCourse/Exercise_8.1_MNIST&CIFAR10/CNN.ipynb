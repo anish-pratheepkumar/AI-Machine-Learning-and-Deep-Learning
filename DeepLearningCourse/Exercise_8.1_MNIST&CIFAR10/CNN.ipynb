{
 "cells": [
  {
   "cell_type": "code",
   "execution_count": 2,
   "metadata": {
    "scrolled": true
   },
   "outputs": [],
   "source": [
    "%load_ext autoreload\n",
    "%autoreload 2\n",
    "\n",
    "import torch\n",
    "import torch.nn as nn\n",
    "from torch.utils.data import DataLoader\n",
    "from torchvision import transforms"
   ]
  },
  {
   "cell_type": "markdown",
   "metadata": {},
   "source": [
    "# Convolutional neural networks [6 points]"
   ]
  },
  {
   "cell_type": "markdown",
   "metadata": {},
   "source": [
    "Train the pre-defined network ``MNISTNet`` defined below on the MNIST dataset. You have to get an accuracy of at least 95% on a hidden test set. Use the loader from below as data loader of the trainig set."
   ]
  },
  {
   "cell_type": "code",
   "execution_count": 6,
   "metadata": {},
   "outputs": [],
   "source": [
    "from torchvision.datasets import MNIST\n",
    "\n",
    "dataset = MNIST('data', download=True, transform=transforms.ToTensor())\n",
    "loader = DataLoader(dataset, batch_size=16, num_workers=4)\n"
   ]
  },
  {
   "cell_type": "code",
   "execution_count": 7,
   "metadata": {},
   "outputs": [
    {
     "name": "stdout",
     "output_type": "stream",
     "text": [
      "60000\n",
      "<class 'tuple'>\n",
      "torch.Size([1, 28, 28])\n",
      "1\n"
     ]
    }
   ],
   "source": [
    "print(len(dataset)) #this is only training set\n",
    "\n",
    "el = dataset[3]                 #el is a tuple containing 2 list 1 image 2 its labels\n",
    "print(type(el))\n",
    "print(el[0].shape)                #image is again a sub list inside el so it is [1,28,28] so calling el[0][0] accesses the sblist image first then the 1st element inside the image this has now size 28x28\n",
    "print(el[1])"
   ]
  },
  {
   "cell_type": "code",
   "execution_count": 8,
   "metadata": {},
   "outputs": [
    {
     "name": "stdout",
     "output_type": "stream",
     "text": [
      "torch.Size([16, 1, 28, 28])\n",
      "torch.Size([16])\n"
     ]
    }
   ],
   "source": [
    "batch = iter(loader).next()   #batch is an iterator which gives a single list at a time. each list has 2 elements, element 0 is a list of 4 images and element 1 is a list of its labels\n",
    "\n",
    "data = batch[0]                     #this image is a 3D tensor => CxWxH which means image is again a list inside list\n",
    "labels = batch[1]\n",
    "print(data.shape)\n",
    "print(labels.shape)"
   ]
  },
  {
   "cell_type": "code",
   "execution_count": 12,
   "metadata": {},
   "outputs": [
    {
     "data": {
      "text/plain": [
       "Text(0.5, 1.0, 'Label: 1')"
      ]
     },
     "execution_count": 12,
     "metadata": {},
     "output_type": "execute_result"
    },
    {
     "data": {
      "image/png": "[encoded data removed]",
      "text/plain": [
       "<Figure size 432x288 with 1 Axes>"
      ]
     },
     "metadata": {
      "needs_background": "light"
     },
     "output_type": "display_data"
    }
   ],
   "source": [
    "import matplotlib.pyplot as plt\n",
    "plt.imshow(el[0][0], cmap='gray', vmin=0., vmax=1.)   #calls 1st element of tuple, the image. then the 1st channel of the image\n",
    "plt.title('Label: {}'.format(el[1]))      "
   ]
  },
  {
   "cell_type": "code",
   "execution_count": 10,
   "metadata": {},
   "outputs": [],
   "source": [
    "class MNISTNet(nn.Module):\n",
    "    \n",
    "    def __init__(self):\n",
    "        super().__init__()\n",
    "        self.first_layer = nn.Sequential(nn.Conv2d(1, 16, 3, padding=1), nn.ReLU())\n",
    "        self.conv_layers = nn.Sequential(*[nn.Sequential(nn.Conv2d(16, 16, 3, padding=1), nn.ReLU()) for _ in range(4)])\n",
    "        self.last_layer = nn.Linear(28*28*16, 10)\n",
    "    \n",
    "    def forward(self, x):\n",
    "        x = self.first_layer(x)\n",
    "        x = self.conv_layers(x)\n",
    "        x = x.reshape(-1, 28*28*16)\n",
    "        x = self.last_layer(x)\n",
    "        return x\n",
    "        "
   ]
  },
  {
   "cell_type": "code",
   "execution_count": 13,
   "metadata": {
    "scrolled": false
   },
   "outputs": [
    {
     "name": "stdout",
     "output_type": "stream",
     "text": [
      "Train Epoch: 1/5, Loss: 0.012, Accuracy: 89.110\n",
      "Train Epoch: 2/5, Loss: 0.010, Accuracy: 97.798\n",
      "Train Epoch: 3/5, Loss: 0.009, Accuracy: 98.418\n",
      "Train Epoch: 4/5, Loss: 0.008, Accuracy: 98.782\n",
      "Train Epoch: 5/5, Loss: 0.010, Accuracy: 99.005\n",
      "Test Accuracy: 97.940\n"
     ]
    }
   ],
   "source": [
    "net = MNISTNet() #net is a model of class MNISTNet network\n",
    "\n",
    "#################\n",
    "# train net!\n",
    "import torch.optim as optim\n",
    "\n",
    "num_epochs = 5\n",
    "optimizer = optim.SGD(net.parameters(), lr=0.01, momentum=0.5)\n",
    "loss_fun = nn.CrossEntropyLoss()\n",
    "\n",
    "for epoch in range(num_epochs):\n",
    "    net.train()\n",
    "    correct = 0\n",
    "    for batch_id, (data, target) in enumerate(loader):\n",
    "        # Zeroing out gradients from previous step\n",
    "        optimizer.zero_grad()\n",
    "        # Forward pass \n",
    "        output = net(data)\n",
    "        # loss calculation\n",
    "        loss = loss_fun(output, target)\n",
    "        # Backpropagation \n",
    "        loss.backward()\n",
    "        # parameter adjustments as per the loss calculation\n",
    "        optimizer.step()\n",
    "        #tracking accuracy\n",
    "        _, pred_labels = output.max(dim=1) \n",
    "        correct += (pred_labels == target).float().sum()\n",
    "    accuracy = 100 * correct / len(dataset)    \n",
    "    print('Train Epoch: {}/{}, Loss: {:.3f}, Accuracy: {:.3f}'.format(\n",
    "                epoch+1,num_epochs, loss.item(), accuracy))  \n",
    "    \n",
    "#Tesing the trained model on test set\n",
    "test_set = MNIST('data', train=False, transform=transforms.ToTensor())\n",
    "test_loader = DataLoader(dataset=test_set, batch_size=16, shuffle=False) #first load test data to \n",
    "\n",
    "net.eval()\n",
    "with torch.no_grad():\n",
    "    correct = 0\n",
    "    for data, target in test_loader:\n",
    "        output = net(data)  \n",
    "        _, pred_labels = output.max(dim=1) \n",
    "        correct += (pred_labels == target).float().sum()\n",
    "    accuracy = 100 * correct / len(test_set)    \n",
    "    print('Test Accuracy: {:.3f}'.format(accuracy))  \n",
    "#################\n",
    "\n",
    "torch.save(net.state_dict(), 'mnist_net.model')"
   ]
  },
  {
   "cell_type": "code",
   "execution_count": null,
   "metadata": {},
   "outputs": [],
   "source": [
    "# #loading test set\n",
    "# test_set = MNIST('data', train=False, transform=transforms.ToTensor())\n",
    "# test_loader = DataLoader(dataset=test_set, batch_size=16, shuffle=False)\n",
    "# #evaluating the model(testing) based on the test data set\n",
    "# net.eval()\n",
    "\n",
    "# with torch.no_grad():\n",
    "#     correct = 0\n",
    "#     for data, target in test_loader:\n",
    "#         output = net(data)  \n",
    "#         _, pred_labels = output.max(dim=1) \n",
    "#         correct += (pred_labels == target).float().sum()\n",
    "#     accuracy = 100 * correct / len(test_set)    \n",
    "#     print('Test Accuracy: {:.3f}'.format(accuracy)) "
   ]
  },
  {
   "cell_type": "markdown",
   "metadata": {},
   "source": [
    "# CIFAR [4 bonus points]"
   ]
  },
  {
   "cell_type": "markdown",
   "metadata": {},
   "source": [
    "Design a network architecture in ``modules.py`` and train on the CIFAR-10 data set provided by the data loader ``loader`` below. You have to get an accuracy of at least 60% on a hidden test set. Don not use any pre-defined or pre-trained network models."
   ]
  },
  {
   "cell_type": "code",
   "execution_count": 3,
   "metadata": {},
   "outputs": [
    {
     "name": "stdout",
     "output_type": "stream",
     "text": [
      "Files already downloaded and verified\n"
     ]
    }
   ],
   "source": [
    "from torchvision.datasets import CIFAR10\n",
    "from modules import CIFARNet\n",
    "\n",
    "dataset = CIFAR10('data', download=True, transform=transforms.ToTensor())\n",
    "loader = DataLoader(dataset, batch_size=16, num_workers=4)"
   ]
  },
  {
   "cell_type": "code",
   "execution_count": 4,
   "metadata": {},
   "outputs": [
    {
     "name": "stdout",
     "output_type": "stream",
     "text": [
      "50000\n",
      "<class 'tuple'>\n",
      "torch.Size([3, 32, 32])\n",
      "9\n"
     ]
    }
   ],
   "source": [
    "print(len(dataset)) #this is only training set\n",
    "\n",
    "el = dataset[2]                 #el is a tuple containing 2 list 1 image 2 its labels\n",
    "print(type(el))\n",
    "print(el[0].shape)                #image is again a sub list inside el so it is [1,28,28] so calling el[0][0] accesses the sblist image first then the 1st element inside the image this has now size 28x28\n",
    "print(el[1])"
   ]
  },
  {
   "cell_type": "code",
   "execution_count": 5,
   "metadata": {},
   "outputs": [
    {
     "name": "stdout",
     "output_type": "stream",
     "text": [
      "torch.Size([16, 3, 32, 32])\n",
      "torch.Size([16])\n"
     ]
    }
   ],
   "source": [
    "#so we have 50,000 images in the training set and dataset variable is a tuple having two lists image \n",
    "#and ther corresponding labels\n",
    "batch = iter(loader).next()   #batch is an iterator which gives a single list at a time. each list has 2 elements, element 0 is a list of 4 images and element 1 is a list of its labels\n",
    "\n",
    "data = batch[0]                     #this image is a 3D tensor => CxWxH which means image is again a list inside list\n",
    "labels = batch[1]\n",
    "print(data.shape)\n",
    "print(labels.shape)"
   ]
  },
  {
   "cell_type": "code",
   "execution_count": 6,
   "metadata": {},
   "outputs": [
    {
     "name": "stdout",
     "output_type": "stream",
     "text": [
      "torch.Size([1, 400])\n"
     ]
    }
   ],
   "source": [
    "#checking flattening\n",
    "x = torch.ones(16,5,5)\n",
    "x = x.reshape(-1, 5*5*16)\n",
    "print(x.shape)\n"
   ]
  },
  {
   "cell_type": "code",
   "execution_count": 7,
   "metadata": {
    "scrolled": true
   },
   "outputs": [
    {
     "name": "stdout",
     "output_type": "stream",
     "text": [
      "Train Epoch: 1/25, Loss: 2.308, Accuracy: 40.772\n",
      "Train Epoch: 2/25, Loss: 2.075, Accuracy: 51.994\n",
      "Train Epoch: 3/25, Loss: 1.926, Accuracy: 56.106\n",
      "Train Epoch: 4/25, Loss: 1.901, Accuracy: 58.698\n",
      "Train Epoch: 5/25, Loss: 2.127, Accuracy: 60.602\n",
      "Train Epoch: 6/25, Loss: 1.885, Accuracy: 62.200\n",
      "Train Epoch: 7/25, Loss: 1.923, Accuracy: 63.630\n",
      "Train Epoch: 8/25, Loss: 1.908, Accuracy: 64.566\n",
      "Train Epoch: 9/25, Loss: 1.515, Accuracy: 65.736\n",
      "Train Epoch: 10/25, Loss: 1.514, Accuracy: 66.612\n",
      "Train Epoch: 11/25, Loss: 1.802, Accuracy: 67.168\n",
      "Train Epoch: 12/25, Loss: 1.287, Accuracy: 67.862\n",
      "Train Epoch: 13/25, Loss: 1.395, Accuracy: 68.606\n",
      "Train Epoch: 14/25, Loss: 1.200, Accuracy: 69.170\n",
      "Train Epoch: 15/25, Loss: 1.211, Accuracy: 69.970\n",
      "Train Epoch: 16/25, Loss: 1.163, Accuracy: 70.010\n",
      "Train Epoch: 17/25, Loss: 1.660, Accuracy: 70.878\n",
      "Train Epoch: 18/25, Loss: 1.197, Accuracy: 71.092\n",
      "Train Epoch: 19/25, Loss: 1.171, Accuracy: 71.656\n",
      "Train Epoch: 20/25, Loss: 1.179, Accuracy: 71.766\n",
      "Train Epoch: 21/25, Loss: 0.929, Accuracy: 72.362\n",
      "Train Epoch: 22/25, Loss: 1.243, Accuracy: 72.760\n",
      "Train Epoch: 23/25, Loss: 0.971, Accuracy: 72.950\n",
      "Train Epoch: 24/25, Loss: 1.218, Accuracy: 73.226\n",
      "Train Epoch: 25/25, Loss: 0.907, Accuracy: 73.290\n",
      "Test Accuracy: 64.640\n"
     ]
    }
   ],
   "source": [
    "net = CIFARNet()\n",
    "\n",
    "#################\n",
    "# train net!\n",
    "import torch.optim as optim\n",
    "\n",
    "num_epochs = 25\n",
    "optimizer = optim.SGD(net.parameters(), lr=0.003, momentum=0.9)\n",
    "loss_fun = nn.CrossEntropyLoss()\n",
    "\n",
    "for epoch in range(num_epochs):\n",
    "    net.train()\n",
    "    correct = 0\n",
    "    for batch_id, (data, target) in enumerate(loader):\n",
    "        # Zeroing out gradients from previous step\n",
    "        optimizer.zero_grad()\n",
    "        # Forward pass \n",
    "        output = net(data)\n",
    "        # loss calculation\n",
    "        loss = loss_fun(output, target)\n",
    "        # Backpropagation \n",
    "        loss.backward()\n",
    "        # parameter adjustments as per the loss calculation\n",
    "        optimizer.step()\n",
    "        #tracking accuracy\n",
    "        _, pred_labels = output.max(dim=1) \n",
    "        correct += (pred_labels == target).float().sum()\n",
    "    accuracy = 100 * correct / len(dataset)    \n",
    "    print('Train Epoch: {}/{}, Loss: {:.3f}, Accuracy: {:.3f}'.format(\n",
    "                epoch+1,num_epochs, loss.item(), accuracy))  \n",
    "    \n",
    "#Tesing the trained model on test set\n",
    "test_set = CIFAR10('data', train=False, transform=transforms.ToTensor())\n",
    "test_loader = DataLoader(dataset=test_set, batch_size=16, shuffle=False) #first load test data to \n",
    "\n",
    "net.eval()\n",
    "with torch.no_grad():\n",
    "    correct = 0\n",
    "    for data, target in test_loader:\n",
    "        output = net(data)  \n",
    "        _, pred_labels = output.max(dim=1) \n",
    "        correct += (pred_labels == target).float().sum()\n",
    "    accuracy = 100 * correct / len(test_set)    \n",
    "    print('Test Accuracy: {:.3f}'.format(accuracy)) \n",
    "#################\n",
    "\n",
    "torch.save(net.state_dict(), 'cifar_net.model')"
   ]
  },
  {
   "cell_type": "code",
   "execution_count": null,
   "metadata": {},
   "outputs": [],
   "source": []
  }
 ],
 "metadata": {
  "kernelspec": {
   "display_name": "Python 3",
   "language": "python",
   "name": "python3"
  },
  "language_info": {
   "codemirror_mode": {
    "name": "ipython",
    "version": 3
   },
   "file_extension": ".py",
   "mimetype": "text/x-python",
   "name": "python",
   "nbconvert_exporter": "python",
   "pygments_lexer": "ipython3",
   "version": "3.7.5"
  }
 },
 "nbformat": 4,
 "nbformat_minor": 2
}
