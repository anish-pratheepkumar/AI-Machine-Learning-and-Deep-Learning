{
 "cells": [
  {
   "cell_type": "code",
   "execution_count": 1,
   "metadata": {},
   "outputs": [],
   "source": [
    "%load_ext autoreload\n",
    "%autoreload 2"
   ]
  },
  {
   "cell_type": "markdown",
   "metadata": {},
   "source": [
    "# Wine quality prediction"
   ]
  },
  {
   "cell_type": "markdown",
   "metadata": {},
   "source": [
    "In this notebook it is your task to implement linear regression as discussed in the lecture using NumPy.\n",
    "\n",
    "The wine dataset is provided by:\n",
    "<br>\n",
    "P. Cortez, A. Cerdeira, F. Almeida, T. Matos and J. Reis: \"Modeling wine preferences by data mining from physicochemical properties\", in Decision Support Systems, Elsevier, 47(4):547-553, 2009. The dataset is available at http://www3.dsi.uminho.pt/pcortez/wine/.\n",
    "\n",
    "Import the dataset from ```winequality-white.csv```, e.g. using ```numpy.loadtxt()```. Take the first 3674 samples as training set for calculating your linear prediction matrix $\\theta$. Test your prediction function on the remaining samples and report the mean quadratic loss as defined in the lecture.\n",
    "\n",
    "Implement the commented functions in the file ```linear_regression.py``` and test your implementations by running the cells below."
   ]
  },
  {
   "cell_type": "code",
   "execution_count": 2,
   "metadata": {},
   "outputs": [],
   "source": [
    "import linear_regression as lr # importing your code"
   ]
  },
  {
   "cell_type": "code",
   "execution_count": 3,
   "metadata": {},
   "outputs": [
    {
     "name": "stdout",
     "output_type": "stream",
     "text": [
      "(3674, 12)\n",
      "(3674, 1)\n",
      "(1224, 12)\n",
      "(1224, 1)\n"
     ]
    }
   ],
   "source": [
    "num_train = 3674 # size of training data\n",
    "num_test = 1224 # size of test data\n",
    "path = \"winequality/winequality-white.csv\" # path to the data set\n",
    "\n",
    "X_train, Y_train, X_test, Y_test = lr.load_data(path, num_train) # loading the data matrices\n",
    "print(X_train.shape)\n",
    "print(Y_train.shape)\n",
    "print(X_test.shape)\n",
    "print(Y_test.shape)"
   ]
  },
  {
   "cell_type": "code",
   "execution_count": 4,
   "metadata": {},
   "outputs": [],
   "source": [
    "theta = lr.fit(X_train, Y_train) # fitting data"
   ]
  },
  {
   "cell_type": "code",
   "execution_count": 5,
   "metadata": {},
   "outputs": [
    {
     "name": "stdout",
     "output_type": "stream",
     "text": [
      "[[ 3.64040991e-02]\n",
      " [-1.67441779e+00]\n",
      " [-3.28923147e-02]\n",
      " [ 7.91544705e-02]\n",
      " [ 7.67013429e-03]\n",
      " [ 5.09975145e-03]\n",
      " [-2.91875841e-04]\n",
      " [-1.47662461e+02]\n",
      " [ 7.11452522e-01]\n",
      " [ 8.06378156e-01]\n",
      " [ 2.35282422e-01]\n",
      " [ 1.47153125e+02]]\n"
     ]
    }
   ],
   "source": [
    "print(theta)"
   ]
  },
  {
   "cell_type": "code",
   "execution_count": 13,
   "metadata": {},
   "outputs": [
    {
     "name": "stdout",
     "output_type": "stream",
     "text": [
      "0.533876255620615\n"
     ]
    }
   ],
   "source": [
    "Y_pred = lr.predict(X_test, theta) # performing prediction on the test set\n",
    "en = lr.energy(Y_pred, Y_test)\n",
    "print(en/num_test) # printing the MSE loss"
   ]
  },
  {
   "cell_type": "code",
   "execution_count": 12,
   "metadata": {},
   "outputs": [
    {
     "name": "stdout",
     "output_type": "stream",
     "text": [
      "0.6219761882852272\n"
     ]
    }
   ],
   "source": [
    "mu = Y_train.mean()                 # comparison to the constant prediction of the dataset's mean\n",
    "print(((Y_test-mu) ** 2).mean())"
   ]
  },
  {
   "cell_type": "code",
   "execution_count": null,
   "metadata": {},
   "outputs": [],
   "source": []
  }
 ],
 "metadata": {
  "kernelspec": {
   "display_name": "Python 3",
   "language": "python",
   "name": "python3"
  },
  "language_info": {
   "codemirror_mode": {
    "name": "ipython",
    "version": 3
   },
   "file_extension": ".py",
   "mimetype": "text/x-python",
   "name": "python",
   "nbconvert_exporter": "python",
   "pygments_lexer": "ipython3",
   "version": "3.7.5"
  }
 },
 "nbformat": 4,
 "nbformat_minor": 2
}
